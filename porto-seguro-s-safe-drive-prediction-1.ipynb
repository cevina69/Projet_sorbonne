{
 "cells": [
  {
   "cell_type": "markdown",
   "id": "ae9e23b4",
   "metadata": {},
   "source": [
    "# Porto Seguro's Safe Drive Prediction\n",
    "\n",
    "Dans le cadre de ce projet, nous nous concentrerons sur la compétition Kaggle intitulée \"Porto Seguro's Safe Drive Prediction\". L'objectif de cette compétition est de prédire le coût d'un sinistre en fonction des caractéristiques des assurés.\n",
    "\n",
    "Le défi posé par cette compétition est de grande importance, car il vise à améliorer la capacité des compagnies d'assurance à évaluer et prévoir les risques liés à la conduite automobile. En utilisant des techniques avancées de science des données et de modélisation statistique, nous tenterons de créer un modèle précis qui permettra de prédire les coûts des sinistres en se basant sur un ensemble de variables pertinentes.\n",
    "\n",
    "Pour mener à bien ce projet, nous suivrons une méthodologie rigoureuse qui comprendra les étapes suivantes :\n",
    "\n",
    "* Exploration des données : Nous allons examiner attentivement les données fournies par Kaggle, comprendre les caractéristiques disponibles, identifier les éventuelles valeurs manquantes ou aberrantes, et explorer les relations entre les différentes variables.\n",
    "\n",
    "* Prétraitement des données : Avant de construire notre modèle, nous allons nettoyer et préparer les données. Cela impliquera la gestion des valeurs manquantes, l'encodage des variables catégorielles, la normalisation des données numériques, etc.\n",
    "\n",
    "* Sélection des caractéristiques : Nous évaluerons l'importance de chaque caractéristique pour la prédiction du coût du sinistre et sélectionnerons les variables les plus pertinentes pour construire notre modèle.\n",
    "\n",
    "* Construction du modèle : Nous utiliserons différentes techniques de modélisation telles que la régression, les forêts aléatoires, ou les réseaux de neurones, pour construire un modèle capable de prédire avec précision le coût du sinistre.\n",
    "\n",
    "* Optimisation du modèle : Une fois que nous aurons un premier modèle, nous chercherons à l'optimiser en ajustant les hyperparamètres et en utilisant des techniques d'optimisation pour améliorer ses performances.\n",
    "\n",
    "* Validation croisée : Pour évaluer la robustesse de notre modèle, nous utiliserons des méthodes de validation croisée pour mesurer sa capacité à généraliser sur de nouvelles données.\n",
    "\n",
    "* Prédiction des sinistres : Enfin, nous utiliserons notre modèle optimisé pour faire des prédictions sur les données de test fournies par Kaggle, afin de déterminer sa précision dans un environnement réel.\n",
    "\n",
    "Ce projet offre une excellente opportunité d'apprendre et de mettre en pratique les compétences en science des données et en apprentissage automatique. En travaillant ensemble et en suivant une approche méthodique, nous pouvons espérer obtenir des résultats significatifs dans la compétition Kaggle \"Porto Seguro's Safe Drive Prediction\"."
   ]
  },
  {
   "cell_type": "markdown",
   "id": "dfc637f3",
   "metadata": {},
   "source": [
    "### Importation des bibliothèques\n",
    "Pour commencer notre projet, nous allons importer toutes les bibliothèques nécessaires tout au long de notre notebook. Cela nous permettra de disposer des outils essentiels pour explorer la base de données, effectuer des visualisations et réaliser l'apprentissage de nos modèles.\n",
    "\n",
    "Nous allons importer les bibliothèques suivantes :\n",
    "\n",
    "* Pandas : Pandas est une bibliothèque incontournable pour la manipulation et l'analyse de données tabulaires. Elle nous permettra d'importer, de nettoyer et de préparer nos données.\n",
    "\n",
    "* Matplotlib et Seaborn : Ces bibliothèques sont dédiées à la visualisation des données. Matplotlib offre une grande flexibilité pour créer des graphiques personnalisés, tandis que Seaborn facilite la création de visualisations esthétiquement plaisantes et informatives.\n",
    "\n",
    "* Scikit-learn : Scikit-learn est une bibliothèque très populaire pour l'apprentissage automatique (machine learning). Elle propose une large gamme d'algorithmes de modélisation et d'outils pour l'évaluation des performances des modèles.\n",
    "\n",
    "* Numpy : Numpy est une bibliothèque essentielle pour les calculs scientifiques en Python. Elle permet de manipuler efficacement des tableaux multidimensionnels et d'effectuer des opérations mathématiques sur ces données.\n",
    "\n",
    "* Autres bibliothèques spécifiques au besoin : Selon les exigences du projet, nous pourrions également importer des bibliothèques supplémentaires telles que XGBoost ou LightGBM pour des tâches d'apprentissage avancées.\n",
    "\n",
    "Une fois que nous aurons importé ces bibliothèques, nous serons prêts à explorer la base de données, comprendre sa structure, visualiser les relations entre les variables et créer nos modèles d'apprentissage automatique. Cette étape initiale est cruciale car elle pose les bases solides de notre projet et facilite la mise en œuvre des différentes étapes de notre méthodologie."
   ]
  },
  {
   "cell_type": "code",
   "execution_count": 1,
   "id": "fe6855d8",
   "metadata": {
    "execution": {
     "iopub.execute_input": "2023-08-17T08:57:00.661952Z",
     "iopub.status.busy": "2023-08-17T08:57:00.661480Z",
     "iopub.status.idle": "2023-08-17T08:57:04.116113Z",
     "shell.execute_reply": "2023-08-17T08:57:04.114929Z",
     "shell.execute_reply.started": "2023-08-17T08:57:00.661849Z"
    }
   },
   "outputs": [
    {
     "data": {
      "text/html": [
       "<style type='text/css'>\n",
       ".datatable table.frame { margin-bottom: 0; }\n",
       ".datatable table.frame thead { border-bottom: none; }\n",
       ".datatable table.frame tr.coltypes td {  color: #FFFFFF;  line-height: 6px;  padding: 0 0.5em;}\n",
       ".datatable .bool    { background: #DDDD99; }\n",
       ".datatable .object  { background: #565656; }\n",
       ".datatable .int     { background: #5D9E5D; }\n",
       ".datatable .float   { background: #4040CC; }\n",
       ".datatable .str     { background: #CC4040; }\n",
       ".datatable .time    { background: #40CC40; }\n",
       ".datatable .row_index {  background: var(--jp-border-color3);  border-right: 1px solid var(--jp-border-color0);  color: var(--jp-ui-font-color3);  font-size: 9px;}\n",
       ".datatable .frame tbody td { text-align: left; }\n",
       ".datatable .frame tr.coltypes .row_index {  background: var(--jp-border-color0);}\n",
       ".datatable th:nth-child(2) { padding-left: 12px; }\n",
       ".datatable .hellipsis {  color: var(--jp-cell-editor-border-color);}\n",
       ".datatable .vellipsis {  background: var(--jp-layout-color0);  color: var(--jp-cell-editor-border-color);}\n",
       ".datatable .na {  color: var(--jp-cell-editor-border-color);  font-size: 80%;}\n",
       ".datatable .sp {  opacity: 0.25;}\n",
       ".datatable .footer { font-size: 9px; }\n",
       ".datatable .frame_dimensions {  background: var(--jp-border-color3);  border-top: 1px solid var(--jp-border-color0);  color: var(--jp-ui-font-color3);  display: inline-block;  opacity: 0.6;  padding: 1px 10px 1px 5px;}\n",
       "</style>\n"
      ],
      "text/plain": [
       "<IPython.core.display.HTML object>"
      ]
     },
     "metadata": {},
     "output_type": "display_data"
    }
   ],
   "source": [
    "import pandas as pd      # for data manipulation and analysis\n",
    "import numpy as np       # for numerical computing\n",
    "import matplotlib.pyplot as plt   \n",
    "plt.style.use('ggplot')\n",
    "# for data visualization\n",
    "import matplotlib.dates as mdates   \n",
    "import seaborn as sns    # for advanced data visualization\n",
    "import random\n",
    "import missingno as msno\n",
    "\n",
    "# To plot nice figures\n",
    "%matplotlib inline\n",
    "import matplotlib as mpl\n",
    "import plotly.graph_objs as go\n",
    "import plotly.offline as py\n",
    "\n",
    "from termcolor import colored\n",
    "import pylab\n",
    "from sklearn.impute import SimpleImputer\n",
    "from sklearn.metrics import mean_absolute_error, make_scorer, mean_squared_error, confusion_matrix, roc_auc_score\n",
    "from sklearn.model_selection import train_test_split, StratifiedKFold, cross_val_score\n",
    "from sklearn.linear_model import LinearRegression, LogisticRegression\n",
    "from sklearn.ensemble import RandomForestClassifier, RandomForestRegressor, GradientBoostingRegressor, GradientBoostingClassifier, ExtraTreesClassifier, AdaBoostClassifier\n",
    "from sklearn.ensemble import GradientBoostingClassifier\n",
    "from xgboost import XGBClassifier\n",
    "from lightgbm import LGBMClassifier\n",
    "\n",
    "import optuna\n",
    "import sklearn\n",
    "\n",
    "import lightgbm as lgb"
   ]
  },
  {
   "cell_type": "markdown",
   "id": "f940296e",
   "metadata": {},
   "source": [
    "### 1. Informations sur les données\n",
    "\n",
    "Les données sont présentées sous la forme traditionnelle de Kaggle, avec un fichier d'entraînement et un fichier de test : ../input/train.csv & ../input/test.csv.\n",
    "\n",
    "Chaque ligne correspond à un assuré spécifique et les colonnes décrivent leurs caractéristiques. La variable cible est nommée commodément \"target\" ici et indique si cet assuré a fait une réclamation d'assurance dans le passé.\n",
    "\n",
    "Dans les données d'entraînement et de test, les caractéristiques appartenant à des groupes similaires sont étiquetées en conséquence dans les noms des caractéristiques (par exemple, ind, reg, car, calc). De plus, les noms des caractéristiques incluent le suffixe bin pour indiquer les caractéristiques binaires et cat pour indiquer les caractéristiques catégorielles. Les caractéristiques sans ces désignations sont soit continues, soit ordinales. Les valeurs de -1 indiquent que la caractéristique était absente lors de l'observation. La colonne cible indique si une réclamation a été déposée ou non pour cet assuré."
   ]
  },
  {
   "cell_type": "markdown",
   "id": "91ca71f6",
   "metadata": {},
   "source": [
    "### 2. Import Data"
   ]
  },
  {
   "cell_type": "code",
   "execution_count": 2,
   "id": "6c22a3e1",
   "metadata": {
    "execution": {
     "iopub.execute_input": "2023-08-17T08:57:04.118537Z",
     "iopub.status.busy": "2023-08-17T08:57:04.118149Z",
     "iopub.status.idle": "2023-08-17T08:57:16.673565Z",
     "shell.execute_reply": "2023-08-17T08:57:16.672291Z",
     "shell.execute_reply.started": "2023-08-17T08:57:04.118500Z"
    }
   },
   "outputs": [],
   "source": [
    "# Read the CSV file into a Pandas DataFrame\n",
    "#train = pd.read_csv('../input/porto-seguro-safe-driver-prediction/train.csv')\n",
    "#test = pd.read_csv('../input/porto-seguro-safe-driver-prediction/test.csv')\n",
    "\n",
    "train = pd.read_csv('/kaggle/input/porto-seguro-safe-driver-prediction/train.csv')\n",
    "test = pd.read_csv('/kaggle/input/porto-seguro-safe-driver-prediction/test.csv')"
   ]
  },
  {
   "cell_type": "markdown",
   "id": "dfaa7a95",
   "metadata": {},
   "source": [
    "### 3. Aperçu des données"
   ]
  },
  {
   "cell_type": "code",
   "execution_count": 3,
   "id": "6f14d217",
   "metadata": {
    "execution": {
     "iopub.execute_input": "2023-08-17T08:57:16.675401Z",
     "iopub.status.busy": "2023-08-17T08:57:16.675020Z",
     "iopub.status.idle": "2023-08-17T08:57:18.038158Z",
     "shell.execute_reply": "2023-08-17T08:57:18.036841Z",
     "shell.execute_reply.started": "2023-08-17T08:57:16.675369Z"
    }
   },
   "outputs": [
    {
     "name": "stdout",
     "output_type": "stream",
     "text": [
      "SHAPE\n",
      "(595212, 59)\n",
      "\n",
      " INFO\n",
      "<class 'pandas.core.frame.DataFrame'>\n",
      "RangeIndex: 595212 entries, 0 to 595211\n",
      "Data columns (total 59 columns):\n",
      " #   Column          Non-Null Count   Dtype  \n",
      "---  ------          --------------   -----  \n",
      " 0   id              595212 non-null  int64  \n",
      " 1   target          595212 non-null  int64  \n",
      " 2   ps_ind_01       595212 non-null  int64  \n",
      " 3   ps_ind_02_cat   595212 non-null  int64  \n",
      " 4   ps_ind_03       595212 non-null  int64  \n",
      " 5   ps_ind_04_cat   595212 non-null  int64  \n",
      " 6   ps_ind_05_cat   595212 non-null  int64  \n",
      " 7   ps_ind_06_bin   595212 non-null  int64  \n",
      " 8   ps_ind_07_bin   595212 non-null  int64  \n",
      " 9   ps_ind_08_bin   595212 non-null  int64  \n",
      " 10  ps_ind_09_bin   595212 non-null  int64  \n",
      " 11  ps_ind_10_bin   595212 non-null  int64  \n",
      " 12  ps_ind_11_bin   595212 non-null  int64  \n",
      " 13  ps_ind_12_bin   595212 non-null  int64  \n",
      " 14  ps_ind_13_bin   595212 non-null  int64  \n",
      " 15  ps_ind_14       595212 non-null  int64  \n",
      " 16  ps_ind_15       595212 non-null  int64  \n",
      " 17  ps_ind_16_bin   595212 non-null  int64  \n",
      " 18  ps_ind_17_bin   595212 non-null  int64  \n",
      " 19  ps_ind_18_bin   595212 non-null  int64  \n",
      " 20  ps_reg_01       595212 non-null  float64\n",
      " 21  ps_reg_02       595212 non-null  float64\n",
      " 22  ps_reg_03       595212 non-null  float64\n",
      " 23  ps_car_01_cat   595212 non-null  int64  \n",
      " 24  ps_car_02_cat   595212 non-null  int64  \n",
      " 25  ps_car_03_cat   595212 non-null  int64  \n",
      " 26  ps_car_04_cat   595212 non-null  int64  \n",
      " 27  ps_car_05_cat   595212 non-null  int64  \n",
      " 28  ps_car_06_cat   595212 non-null  int64  \n",
      " 29  ps_car_07_cat   595212 non-null  int64  \n",
      " 30  ps_car_08_cat   595212 non-null  int64  \n",
      " 31  ps_car_09_cat   595212 non-null  int64  \n",
      " 32  ps_car_10_cat   595212 non-null  int64  \n",
      " 33  ps_car_11_cat   595212 non-null  int64  \n",
      " 34  ps_car_11       595212 non-null  int64  \n",
      " 35  ps_car_12       595212 non-null  float64\n",
      " 36  ps_car_13       595212 non-null  float64\n",
      " 37  ps_car_14       595212 non-null  float64\n",
      " 38  ps_car_15       595212 non-null  float64\n",
      " 39  ps_calc_01      595212 non-null  float64\n",
      " 40  ps_calc_02      595212 non-null  float64\n",
      " 41  ps_calc_03      595212 non-null  float64\n",
      " 42  ps_calc_04      595212 non-null  int64  \n",
      " 43  ps_calc_05      595212 non-null  int64  \n",
      " 44  ps_calc_06      595212 non-null  int64  \n",
      " 45  ps_calc_07      595212 non-null  int64  \n",
      " 46  ps_calc_08      595212 non-null  int64  \n",
      " 47  ps_calc_09      595212 non-null  int64  \n",
      " 48  ps_calc_10      595212 non-null  int64  \n",
      " 49  ps_calc_11      595212 non-null  int64  \n",
      " 50  ps_calc_12      595212 non-null  int64  \n",
      " 51  ps_calc_13      595212 non-null  int64  \n",
      " 52  ps_calc_14      595212 non-null  int64  \n",
      " 53  ps_calc_15_bin  595212 non-null  int64  \n",
      " 54  ps_calc_16_bin  595212 non-null  int64  \n",
      " 55  ps_calc_17_bin  595212 non-null  int64  \n",
      " 56  ps_calc_18_bin  595212 non-null  int64  \n",
      " 57  ps_calc_19_bin  595212 non-null  int64  \n",
      " 58  ps_calc_20_bin  595212 non-null  int64  \n",
      "dtypes: float64(10), int64(49)\n",
      "memory usage: 267.9 MB\n",
      "None\n",
      "\n",
      " NULL VALUES\n",
      "id                0\n",
      "target            0\n",
      "ps_ind_01         0\n",
      "ps_ind_02_cat     0\n",
      "ps_ind_03         0\n",
      "ps_ind_04_cat     0\n",
      "ps_ind_05_cat     0\n",
      "ps_ind_06_bin     0\n",
      "ps_ind_07_bin     0\n",
      "ps_ind_08_bin     0\n",
      "ps_ind_09_bin     0\n",
      "ps_ind_10_bin     0\n",
      "ps_ind_11_bin     0\n",
      "ps_ind_12_bin     0\n",
      "ps_ind_13_bin     0\n",
      "ps_ind_14         0\n",
      "ps_ind_15         0\n",
      "ps_ind_16_bin     0\n",
      "ps_ind_17_bin     0\n",
      "ps_ind_18_bin     0\n",
      "ps_reg_01         0\n",
      "ps_reg_02         0\n",
      "ps_reg_03         0\n",
      "ps_car_01_cat     0\n",
      "ps_car_02_cat     0\n",
      "ps_car_03_cat     0\n",
      "ps_car_04_cat     0\n",
      "ps_car_05_cat     0\n",
      "ps_car_06_cat     0\n",
      "ps_car_07_cat     0\n",
      "ps_car_08_cat     0\n",
      "ps_car_09_cat     0\n",
      "ps_car_10_cat     0\n",
      "ps_car_11_cat     0\n",
      "ps_car_11         0\n",
      "ps_car_12         0\n",
      "ps_car_13         0\n",
      "ps_car_14         0\n",
      "ps_car_15         0\n",
      "ps_calc_01        0\n",
      "ps_calc_02        0\n",
      "ps_calc_03        0\n",
      "ps_calc_04        0\n",
      "ps_calc_05        0\n",
      "ps_calc_06        0\n",
      "ps_calc_07        0\n",
      "ps_calc_08        0\n",
      "ps_calc_09        0\n",
      "ps_calc_10        0\n",
      "ps_calc_11        0\n",
      "ps_calc_12        0\n",
      "ps_calc_13        0\n",
      "ps_calc_14        0\n",
      "ps_calc_15_bin    0\n",
      "ps_calc_16_bin    0\n",
      "ps_calc_17_bin    0\n",
      "ps_calc_18_bin    0\n",
      "ps_calc_19_bin    0\n",
      "ps_calc_20_bin    0\n",
      "dtype: int64\n",
      "\n",
      " HEAD\n",
      "   id  target  ps_ind_01  ps_ind_02_cat  ps_ind_03  ps_ind_04_cat  \\\n",
      "0   7       0          2              2          5              1   \n",
      "1   9       0          1              1          7              0   \n",
      "2  13       0          5              4          9              1   \n",
      "3  16       0          0              1          2              0   \n",
      "4  17       0          0              2          0              1   \n",
      "\n",
      "   ps_ind_05_cat  ps_ind_06_bin  ps_ind_07_bin  ps_ind_08_bin  ...  \\\n",
      "0              0              0              1              0  ...   \n",
      "1              0              0              0              1  ...   \n",
      "2              0              0              0              1  ...   \n",
      "3              0              1              0              0  ...   \n",
      "4              0              1              0              0  ...   \n",
      "\n",
      "   ps_calc_11  ps_calc_12  ps_calc_13  ps_calc_14  ps_calc_15_bin  \\\n",
      "0           9           1           5           8               0   \n",
      "1           3           1           1           9               0   \n",
      "2           4           2           7           7               0   \n",
      "3           2           2           4           9               0   \n",
      "4           3           1           1           3               0   \n",
      "\n",
      "   ps_calc_16_bin  ps_calc_17_bin  ps_calc_18_bin  ps_calc_19_bin  \\\n",
      "0               1               1               0               0   \n",
      "1               1               1               0               1   \n",
      "2               1               1               0               1   \n",
      "3               0               0               0               0   \n",
      "4               0               0               1               1   \n",
      "\n",
      "   ps_calc_20_bin  \n",
      "0               1  \n",
      "1               0  \n",
      "2               0  \n",
      "3               0  \n",
      "4               0  \n",
      "\n",
      "[5 rows x 59 columns]\n",
      "\n",
      " DESCRIBE\n",
      "                 id         target      ps_ind_01  ps_ind_02_cat  \\\n",
      "count  5.952120e+05  595212.000000  595212.000000  595212.000000   \n",
      "mean   7.438036e+05       0.036448       1.900378       1.358943   \n",
      "std    4.293678e+05       0.187401       1.983789       0.664594   \n",
      "min    7.000000e+00       0.000000       0.000000      -1.000000   \n",
      "25%    3.719915e+05       0.000000       0.000000       1.000000   \n",
      "50%    7.435475e+05       0.000000       1.000000       1.000000   \n",
      "75%    1.115549e+06       0.000000       3.000000       2.000000   \n",
      "max    1.488027e+06       1.000000       7.000000       4.000000   \n",
      "\n",
      "           ps_ind_03  ps_ind_04_cat  ps_ind_05_cat  ps_ind_06_bin  \\\n",
      "count  595212.000000  595212.000000  595212.000000  595212.000000   \n",
      "mean        4.423318       0.416794       0.405188       0.393742   \n",
      "std         2.699902       0.493311       1.350642       0.488579   \n",
      "min         0.000000      -1.000000      -1.000000       0.000000   \n",
      "25%         2.000000       0.000000       0.000000       0.000000   \n",
      "50%         4.000000       0.000000       0.000000       0.000000   \n",
      "75%         6.000000       1.000000       0.000000       1.000000   \n",
      "max        11.000000       1.000000       6.000000       1.000000   \n",
      "\n",
      "       ps_ind_07_bin  ps_ind_08_bin  ...     ps_calc_11     ps_calc_12  \\\n",
      "count  595212.000000  595212.000000  ...  595212.000000  595212.000000   \n",
      "mean        0.257033       0.163921  ...       5.441382       1.441918   \n",
      "std         0.436998       0.370205  ...       2.332871       1.202963   \n",
      "min         0.000000       0.000000  ...       0.000000       0.000000   \n",
      "25%         0.000000       0.000000  ...       4.000000       1.000000   \n",
      "50%         0.000000       0.000000  ...       5.000000       1.000000   \n",
      "75%         1.000000       0.000000  ...       7.000000       2.000000   \n",
      "max         1.000000       1.000000  ...      19.000000      10.000000   \n",
      "\n",
      "          ps_calc_13     ps_calc_14  ps_calc_15_bin  ps_calc_16_bin  \\\n",
      "count  595212.000000  595212.000000   595212.000000   595212.000000   \n",
      "mean        2.872288       7.539026        0.122427        0.627840   \n",
      "std         1.694887       2.746652        0.327779        0.483381   \n",
      "min         0.000000       0.000000        0.000000        0.000000   \n",
      "25%         2.000000       6.000000        0.000000        0.000000   \n",
      "50%         3.000000       7.000000        0.000000        1.000000   \n",
      "75%         4.000000       9.000000        0.000000        1.000000   \n",
      "max        13.000000      23.000000        1.000000        1.000000   \n",
      "\n",
      "       ps_calc_17_bin  ps_calc_18_bin  ps_calc_19_bin  ps_calc_20_bin  \n",
      "count   595212.000000   595212.000000   595212.000000   595212.000000  \n",
      "mean         0.554182        0.287182        0.349024        0.153318  \n",
      "std          0.497056        0.452447        0.476662        0.360295  \n",
      "min          0.000000        0.000000        0.000000        0.000000  \n",
      "25%          0.000000        0.000000        0.000000        0.000000  \n",
      "50%          1.000000        0.000000        0.000000        0.000000  \n",
      "75%          1.000000        1.000000        1.000000        0.000000  \n",
      "max          1.000000        1.000000        1.000000        1.000000  \n",
      "\n",
      "[8 rows x 59 columns]\n"
     ]
    }
   ],
   "source": [
    "print('SHAPE')\n",
    "print(train.shape)\n",
    "print('\\n INFO')\n",
    "print(train.info())\n",
    "print('\\n NULL VALUES')\n",
    "print(train.isnull().sum())\n",
    "print('\\n HEAD')\n",
    "print(train.head())\n",
    "print('\\n DESCRIBE')\n",
    "print(train.describe())"
   ]
  },
  {
   "cell_type": "code",
   "execution_count": 4,
   "id": "f797c395",
   "metadata": {
    "execution": {
     "iopub.execute_input": "2023-08-17T08:57:18.041583Z",
     "iopub.status.busy": "2023-08-17T08:57:18.041168Z",
     "iopub.status.idle": "2023-08-17T08:57:20.007364Z",
     "shell.execute_reply": "2023-08-17T08:57:20.006036Z",
     "shell.execute_reply.started": "2023-08-17T08:57:18.041545Z"
    }
   },
   "outputs": [
    {
     "name": "stdout",
     "output_type": "stream",
     "text": [
      "SHAPE\n",
      "(892816, 58)\n",
      "\n",
      " INFO\n",
      "<class 'pandas.core.frame.DataFrame'>\n",
      "RangeIndex: 892816 entries, 0 to 892815\n",
      "Data columns (total 58 columns):\n",
      " #   Column          Non-Null Count   Dtype  \n",
      "---  ------          --------------   -----  \n",
      " 0   id              892816 non-null  int64  \n",
      " 1   ps_ind_01       892816 non-null  int64  \n",
      " 2   ps_ind_02_cat   892816 non-null  int64  \n",
      " 3   ps_ind_03       892816 non-null  int64  \n",
      " 4   ps_ind_04_cat   892816 non-null  int64  \n",
      " 5   ps_ind_05_cat   892816 non-null  int64  \n",
      " 6   ps_ind_06_bin   892816 non-null  int64  \n",
      " 7   ps_ind_07_bin   892816 non-null  int64  \n",
      " 8   ps_ind_08_bin   892816 non-null  int64  \n",
      " 9   ps_ind_09_bin   892816 non-null  int64  \n",
      " 10  ps_ind_10_bin   892816 non-null  int64  \n",
      " 11  ps_ind_11_bin   892816 non-null  int64  \n",
      " 12  ps_ind_12_bin   892816 non-null  int64  \n",
      " 13  ps_ind_13_bin   892816 non-null  int64  \n",
      " 14  ps_ind_14       892816 non-null  int64  \n",
      " 15  ps_ind_15       892816 non-null  int64  \n",
      " 16  ps_ind_16_bin   892816 non-null  int64  \n",
      " 17  ps_ind_17_bin   892816 non-null  int64  \n",
      " 18  ps_ind_18_bin   892816 non-null  int64  \n",
      " 19  ps_reg_01       892816 non-null  float64\n",
      " 20  ps_reg_02       892816 non-null  float64\n",
      " 21  ps_reg_03       892816 non-null  float64\n",
      " 22  ps_car_01_cat   892816 non-null  int64  \n",
      " 23  ps_car_02_cat   892816 non-null  int64  \n",
      " 24  ps_car_03_cat   892816 non-null  int64  \n",
      " 25  ps_car_04_cat   892816 non-null  int64  \n",
      " 26  ps_car_05_cat   892816 non-null  int64  \n",
      " 27  ps_car_06_cat   892816 non-null  int64  \n",
      " 28  ps_car_07_cat   892816 non-null  int64  \n",
      " 29  ps_car_08_cat   892816 non-null  int64  \n",
      " 30  ps_car_09_cat   892816 non-null  int64  \n",
      " 31  ps_car_10_cat   892816 non-null  int64  \n",
      " 32  ps_car_11_cat   892816 non-null  int64  \n",
      " 33  ps_car_11       892816 non-null  int64  \n",
      " 34  ps_car_12       892816 non-null  float64\n",
      " 35  ps_car_13       892816 non-null  float64\n",
      " 36  ps_car_14       892816 non-null  float64\n",
      " 37  ps_car_15       892816 non-null  float64\n",
      " 38  ps_calc_01      892816 non-null  float64\n",
      " 39  ps_calc_02      892816 non-null  float64\n",
      " 40  ps_calc_03      892816 non-null  float64\n",
      " 41  ps_calc_04      892816 non-null  int64  \n",
      " 42  ps_calc_05      892816 non-null  int64  \n",
      " 43  ps_calc_06      892816 non-null  int64  \n",
      " 44  ps_calc_07      892816 non-null  int64  \n",
      " 45  ps_calc_08      892816 non-null  int64  \n",
      " 46  ps_calc_09      892816 non-null  int64  \n",
      " 47  ps_calc_10      892816 non-null  int64  \n",
      " 48  ps_calc_11      892816 non-null  int64  \n",
      " 49  ps_calc_12      892816 non-null  int64  \n",
      " 50  ps_calc_13      892816 non-null  int64  \n",
      " 51  ps_calc_14      892816 non-null  int64  \n",
      " 52  ps_calc_15_bin  892816 non-null  int64  \n",
      " 53  ps_calc_16_bin  892816 non-null  int64  \n",
      " 54  ps_calc_17_bin  892816 non-null  int64  \n",
      " 55  ps_calc_18_bin  892816 non-null  int64  \n",
      " 56  ps_calc_19_bin  892816 non-null  int64  \n",
      " 57  ps_calc_20_bin  892816 non-null  int64  \n",
      "dtypes: float64(10), int64(48)\n",
      "memory usage: 395.1 MB\n",
      "None\n",
      "\n",
      " NULL VALUES\n",
      "id                0\n",
      "ps_ind_01         0\n",
      "ps_ind_02_cat     0\n",
      "ps_ind_03         0\n",
      "ps_ind_04_cat     0\n",
      "ps_ind_05_cat     0\n",
      "ps_ind_06_bin     0\n",
      "ps_ind_07_bin     0\n",
      "ps_ind_08_bin     0\n",
      "ps_ind_09_bin     0\n",
      "ps_ind_10_bin     0\n",
      "ps_ind_11_bin     0\n",
      "ps_ind_12_bin     0\n",
      "ps_ind_13_bin     0\n",
      "ps_ind_14         0\n",
      "ps_ind_15         0\n",
      "ps_ind_16_bin     0\n",
      "ps_ind_17_bin     0\n",
      "ps_ind_18_bin     0\n",
      "ps_reg_01         0\n",
      "ps_reg_02         0\n",
      "ps_reg_03         0\n",
      "ps_car_01_cat     0\n",
      "ps_car_02_cat     0\n",
      "ps_car_03_cat     0\n",
      "ps_car_04_cat     0\n",
      "ps_car_05_cat     0\n",
      "ps_car_06_cat     0\n",
      "ps_car_07_cat     0\n",
      "ps_car_08_cat     0\n",
      "ps_car_09_cat     0\n",
      "ps_car_10_cat     0\n",
      "ps_car_11_cat     0\n",
      "ps_car_11         0\n",
      "ps_car_12         0\n",
      "ps_car_13         0\n",
      "ps_car_14         0\n",
      "ps_car_15         0\n",
      "ps_calc_01        0\n",
      "ps_calc_02        0\n",
      "ps_calc_03        0\n",
      "ps_calc_04        0\n",
      "ps_calc_05        0\n",
      "ps_calc_06        0\n",
      "ps_calc_07        0\n",
      "ps_calc_08        0\n",
      "ps_calc_09        0\n",
      "ps_calc_10        0\n",
      "ps_calc_11        0\n",
      "ps_calc_12        0\n",
      "ps_calc_13        0\n",
      "ps_calc_14        0\n",
      "ps_calc_15_bin    0\n",
      "ps_calc_16_bin    0\n",
      "ps_calc_17_bin    0\n",
      "ps_calc_18_bin    0\n",
      "ps_calc_19_bin    0\n",
      "ps_calc_20_bin    0\n",
      "dtype: int64\n",
      "\n",
      " HEAD\n",
      "   id  ps_ind_01  ps_ind_02_cat  ps_ind_03  ps_ind_04_cat  ps_ind_05_cat  \\\n",
      "0   0          0              1          8              1              0   \n",
      "1   1          4              2          5              1              0   \n",
      "2   2          5              1          3              0              0   \n",
      "3   3          0              1          6              0              0   \n",
      "4   4          5              1          7              0              0   \n",
      "\n",
      "   ps_ind_06_bin  ps_ind_07_bin  ps_ind_08_bin  ps_ind_09_bin  ...  \\\n",
      "0              0              1              0              0  ...   \n",
      "1              0              0              0              1  ...   \n",
      "2              0              0              0              1  ...   \n",
      "3              1              0              0              0  ...   \n",
      "4              0              0              0              1  ...   \n",
      "\n",
      "   ps_calc_11  ps_calc_12  ps_calc_13  ps_calc_14  ps_calc_15_bin  \\\n",
      "0           1           1           1          12               0   \n",
      "1           2           0           3          10               0   \n",
      "2           4           0           2           4               0   \n",
      "3           5           1           0           5               1   \n",
      "4           4           0           0           4               0   \n",
      "\n",
      "   ps_calc_16_bin  ps_calc_17_bin  ps_calc_18_bin  ps_calc_19_bin  \\\n",
      "0               1               1               0               0   \n",
      "1               0               1               1               0   \n",
      "2               0               0               0               0   \n",
      "3               0               1               0               0   \n",
      "4               1               1               0               0   \n",
      "\n",
      "   ps_calc_20_bin  \n",
      "0               1  \n",
      "1               1  \n",
      "2               0  \n",
      "3               0  \n",
      "4               1  \n",
      "\n",
      "[5 rows x 58 columns]\n",
      "\n",
      " DESCRIBE\n",
      "                 id      ps_ind_01  ps_ind_02_cat      ps_ind_03  \\\n",
      "count  8.928160e+05  892816.000000  892816.000000  892816.000000   \n",
      "mean   7.441535e+05       1.902371       1.358613       4.413734   \n",
      "std    4.296830e+05       1.986503       0.663002       2.700149   \n",
      "min    0.000000e+00       0.000000      -1.000000       0.000000   \n",
      "25%    3.720218e+05       0.000000       1.000000       2.000000   \n",
      "50%    7.443070e+05       1.000000       1.000000       4.000000   \n",
      "75%    1.116308e+06       3.000000       2.000000       6.000000   \n",
      "max    1.488026e+06       7.000000       4.000000      11.000000   \n",
      "\n",
      "       ps_ind_04_cat  ps_ind_05_cat  ps_ind_06_bin  ps_ind_07_bin  \\\n",
      "count  892816.000000  892816.000000  892816.000000  892816.000000   \n",
      "mean        0.417361       0.408132       0.393246       0.257191   \n",
      "std         0.493453       1.355068       0.488471       0.437086   \n",
      "min        -1.000000      -1.000000       0.000000       0.000000   \n",
      "25%         0.000000       0.000000       0.000000       0.000000   \n",
      "50%         0.000000       0.000000       0.000000       0.000000   \n",
      "75%         1.000000       0.000000       1.000000       1.000000   \n",
      "max         1.000000       6.000000       1.000000       1.000000   \n",
      "\n",
      "       ps_ind_08_bin  ps_ind_09_bin  ...     ps_calc_11     ps_calc_12  \\\n",
      "count  892816.000000  892816.000000  ...  892816.000000  892816.000000   \n",
      "mean        0.163659       0.185905  ...       5.438478       1.440265   \n",
      "std         0.369966       0.389030  ...       2.330081       1.200620   \n",
      "min         0.000000       0.000000  ...       0.000000       0.000000   \n",
      "25%         0.000000       0.000000  ...       4.000000       1.000000   \n",
      "50%         0.000000       0.000000  ...       5.000000       1.000000   \n",
      "75%         0.000000       0.000000  ...       7.000000       2.000000   \n",
      "max         1.000000       1.000000  ...      20.000000      11.000000   \n",
      "\n",
      "          ps_calc_13     ps_calc_14  ps_calc_15_bin  ps_calc_16_bin  \\\n",
      "count  892816.000000  892816.000000   892816.000000   892816.000000   \n",
      "mean        2.875013       7.540367        0.123720        0.627756   \n",
      "std         1.694072       2.745882        0.329262        0.483403   \n",
      "min         0.000000       0.000000        0.000000        0.000000   \n",
      "25%         2.000000       6.000000        0.000000        0.000000   \n",
      "50%         3.000000       7.000000        0.000000        1.000000   \n",
      "75%         4.000000       9.000000        0.000000        1.000000   \n",
      "max        15.000000      28.000000        1.000000        1.000000   \n",
      "\n",
      "       ps_calc_17_bin  ps_calc_18_bin  ps_calc_19_bin  ps_calc_20_bin  \n",
      "count   892816.000000   892816.000000   892816.000000   892816.000000  \n",
      "mean         0.554660        0.287796        0.349344        0.152428  \n",
      "std          0.497004        0.452736        0.476763        0.359435  \n",
      "min          0.000000        0.000000        0.000000        0.000000  \n",
      "25%          0.000000        0.000000        0.000000        0.000000  \n",
      "50%          1.000000        0.000000        0.000000        0.000000  \n",
      "75%          1.000000        1.000000        1.000000        0.000000  \n",
      "max          1.000000        1.000000        1.000000        1.000000  \n",
      "\n",
      "[8 rows x 58 columns]\n"
     ]
    }
   ],
   "source": [
    "print('SHAPE')\n",
    "print(test.shape)\n",
    "print('\\n INFO')\n",
    "print(test.info())\n",
    "print('\\n NULL VALUES')\n",
    "print(test.isnull().sum())\n",
    "print('\\n HEAD')\n",
    "print(test.head())\n",
    "print('\\n DESCRIBE')\n",
    "print(test.describe())"
   ]
  },
  {
   "cell_type": "markdown",
   "id": "3b788f2d",
   "metadata": {},
   "source": [
    "Chaque ligne dans ces fichiers représente un assuré spécifique, et les colonnes décrivent différentes caractéristiques associées à ces assurés. Voici un aperçu des principales caractéristiques :\n",
    "\n",
    "- target : La variable cible indiquant si l'assuré a déposé une réclamation d'assurance (1) ou non (0).\n",
    "- ind : Caractéristiques commençant par \"ind\" qui sont regroupées ensemble.\n",
    "- reg : Caractéristiques commençant par \"reg\" qui sont regroupées ensemble.\n",
    "- car : Caractéristiques commençant par \"car\" qui sont regroupées ensemble.\n",
    "- calc : Caractéristiques commençant par \"calc\" qui sont regroupées ensemble.\n",
    "- bin : Caractéristiques binaires qui prennent des valeurs 0 ou 1.\n",
    "- cat : Caractéristiques catégorielles qui peuvent avoir plusieurs catégories distinctes.\n",
    "- Valeurs de -1 : Ces valeurs indiquent que la caractéristique est manquante pour l'observation correspondante.\n",
    "\n",
    "L'objectif de ce projet est de développer un modèle d'apprentissage automatique en utilisant les données d'entraînement afin de prédire avec précision si un assuré déposera ou non une réclamation d'assurance à partir des caractéristiques fournies.\n",
    "\n",
    "Nous allons explorer plus en détail les données, effectuer une analyse approfondie, préparer les données pour la modélisation et utiliser divers algorithmes pour créer un modèle prédictif performant. Enfin, nous évaluerons les performances du modèle sur les données de test pour voir à quel point il est capable de généraliser sur de nouvelles observations."
   ]
  },
  {
   "cell_type": "markdown",
   "id": "646b0401",
   "metadata": {},
   "source": [
    "#### Valeurs Nulles ou Manquantes"
   ]
  },
  {
   "cell_type": "code",
   "execution_count": 5,
   "id": "be6b7246",
   "metadata": {
    "execution": {
     "iopub.execute_input": "2023-08-17T08:57:20.009284Z",
     "iopub.status.busy": "2023-08-17T08:57:20.008847Z",
     "iopub.status.idle": "2023-08-17T08:57:20.033961Z",
     "shell.execute_reply": "2023-08-17T08:57:20.032679Z",
     "shell.execute_reply.started": "2023-08-17T08:57:20.009246Z"
    }
   },
   "outputs": [
    {
     "data": {
      "text/plain": [
       "False"
      ]
     },
     "execution_count": 5,
     "metadata": {},
     "output_type": "execute_result"
    }
   ],
   "source": [
    "train.isnull().any().any()"
   ]
  },
  {
   "cell_type": "markdown",
   "id": "ae9cf989",
   "metadata": {},
   "source": [
    "Malgré le résultat affichant \"False\" pour les valeurs nulles, nous savons d'après l'explication de Porto Seguro que les valeurs de -1 indiquent que la caractéristique était manquante lors de l'observation.\n",
    "Voyons quelles colonnes contiennent des valeurs de -1 :"
   ]
  },
  {
   "cell_type": "code",
   "execution_count": 6,
   "id": "40f2cc3e",
   "metadata": {
    "execution": {
     "iopub.execute_input": "2023-08-17T08:57:20.035873Z",
     "iopub.status.busy": "2023-08-17T08:57:20.035495Z",
     "iopub.status.idle": "2023-08-17T08:57:20.196985Z",
     "shell.execute_reply": "2023-08-17T08:57:20.196011Z",
     "shell.execute_reply.started": "2023-08-17T08:57:20.035838Z"
    }
   },
   "outputs": [],
   "source": [
    "train_copy = train\n",
    "train_copy = train_copy.replace(-1, np.NaN)"
   ]
  },
  {
   "cell_type": "markdown",
   "id": "5ceefb96",
   "metadata": {},
   "source": [
    "Nous allons visualiser nous données et nous allons voir quelle variable a le plus de valuer manquante. "
   ]
  },
  {
   "cell_type": "code",
   "execution_count": 7,
   "id": "48c86a2d",
   "metadata": {
    "execution": {
     "iopub.execute_input": "2023-08-17T08:57:20.199355Z",
     "iopub.status.busy": "2023-08-17T08:57:20.198633Z",
     "iopub.status.idle": "2023-08-17T08:57:23.405386Z",
     "shell.execute_reply": "2023-08-17T08:57:23.403998Z",
     "shell.execute_reply.started": "2023-08-17T08:57:20.199315Z"
    }
   },
   "outputs": [
    {
     "data": {
      "image/png": "[encoded data removed]",
      "text/plain": [
       "<Figure size 936x432 with 3 Axes>"
      ]
     },
     "metadata": {
      "needs_background": "light"
     },
     "output_type": "display_data"
    }
   ],
   "source": [
    "import missingno as msno\n",
    "msno.bar(df=train_copy.iloc[:, 1:29], figsize=(13, 6));"
   ]
  },
  {
   "cell_type": "code",
   "execution_count": 8,
   "id": "674e9efd",
   "metadata": {
    "execution": {
     "iopub.execute_input": "2023-08-17T08:57:23.407716Z",
     "iopub.status.busy": "2023-08-17T08:57:23.407322Z",
     "iopub.status.idle": "2023-08-17T08:57:26.526595Z",
     "shell.execute_reply": "2023-08-17T08:57:26.525326Z",
     "shell.execute_reply.started": "2023-08-17T08:57:23.407681Z"
    }
   },
   "outputs": [
    {
     "data": {
      "image/png": "[encoded data removed]",
      "text/plain": [
       "<Figure size 936x432 with 3 Axes>"
      ]
     },
     "metadata": {
      "needs_background": "light"
     },
     "output_type": "display_data"
    }
   ],
   "source": [
    "msno.bar(df=train_copy.iloc[:, 29:], figsize=(13, 6));"
   ]
  },
  {
   "cell_type": "markdown",
   "id": "a1a30475",
   "metadata": {},
   "source": [
    "Les cartes thermiques ci-dessus démontrent en jaune que 7 caractéristiques sur 59 de l'ensemble de données d'entraînement contiennent des valeurs nulles :\n",
    "* ps_ind_05_cat\n",
    "* ps_reg_03\n",
    "* ps_car_03_cat\n",
    "* ps_car_05_cat\n",
    "* ps_car_07_cat\n",
    "* ps_car_14\n",
    "\n",
    "La majorité des valeurs manquantes se trouvent dans les caractéristiques ps_reg_03, ps_car_03_cat et ps_car_05_cat, où plus de la moitié des données sont probablement manquantes.\n",
    "\n",
    "Analyse :\n",
    "\n",
    "Les variables ps_car_03_cat et ps_car_05_cat ont respectivement 69% et 45% de valeurs manquantes : en raison d'une proportion élevée de valeurs manquantes, elles seront supprimées.\n",
    "Les autres données catégorielles seront conservées avec des valeurs manquantes -1.\n",
    "- ps_reg_03 a 18% de valeurs manquantes : la moyenne sera utilisée pour combler les lacunes, car il s'agit de données continues.\n",
    "- ps_car_14 a 7% de valeurs manquantes : la moyenne sera utilisée pour combler les lacunes, car il s'agit de données continues.\n",
    "- ps_car_12 a 1 enregistrement manquant : la moyenne sera utilisée pour combler les lacunes, car il s'agit de données continues.\n",
    "- ps_car_11 a 5 enregistrements avec des valeurs manquantes : le mode sera utilisé car il s'agit de données ordinales."
   ]
  },
  {
   "cell_type": "markdown",
   "id": "cc83df9a",
   "metadata": {},
   "source": [
    "#### Suppression des variables ps_car_03_cat et ps_car_05_cat."
   ]
  },
  {
   "cell_type": "code",
   "execution_count": 9,
   "id": "14389870",
   "metadata": {
    "execution": {
     "iopub.execute_input": "2023-08-17T08:57:26.528531Z",
     "iopub.status.busy": "2023-08-17T08:57:26.528149Z",
     "iopub.status.idle": "2023-08-17T08:57:26.738719Z",
     "shell.execute_reply": "2023-08-17T08:57:26.737364Z",
     "shell.execute_reply.started": "2023-08-17T08:57:26.528497Z"
    }
   },
   "outputs": [],
   "source": [
    "drop_cat_var = ['ps_car_03_cat', 'ps_car_05_cat']\n",
    "train.drop(drop_cat_var, inplace=True, axis=1)\n",
    "test.drop(drop_cat_var, inplace=True, axis=1)"
   ]
  },
  {
   "cell_type": "markdown",
   "id": "192dcb4d",
   "metadata": {},
   "source": [
    "#### Imputation avec la moyenne\n",
    "\n",
    "Nous allons utiliser le mode de la variable catégoruielle pour comble les valeurs manquantes."
   ]
  },
  {
   "cell_type": "code",
   "execution_count": 10,
   "id": "20ea0c70",
   "metadata": {
    "_kg_hide-input": true,
    "execution": {
     "iopub.execute_input": "2023-08-17T08:57:26.744055Z",
     "iopub.status.busy": "2023-08-17T08:57:26.743645Z",
     "iopub.status.idle": "2023-08-17T08:57:26.807344Z",
     "shell.execute_reply": "2023-08-17T08:57:26.806142Z",
     "shell.execute_reply.started": "2023-08-17T08:57:26.744019Z"
    }
   },
   "outputs": [],
   "source": [
    "mean_imputer = SimpleImputer(missing_values=-1, strategy='mean')\n",
    "train['ps_reg_03'] = mean_imputer.fit_transform(train[['ps_reg_03']]).ravel()\n",
    "train['ps_car_12'] = mean_imputer.fit_transform(train[['ps_car_12']]).ravel()\n",
    "train['ps_car_14'] = mean_imputer.fit_transform(train[['ps_car_14']]).ravel()"
   ]
  },
  {
   "cell_type": "markdown",
   "id": "c08545d9",
   "metadata": {
    "execution": {
     "iopub.execute_input": "2023-07-28T19:46:02.108466Z",
     "iopub.status.busy": "2023-07-28T19:46:02.108121Z",
     "iopub.status.idle": "2023-07-28T19:46:02.115108Z",
     "shell.execute_reply": "2023-07-28T19:46:02.113395Z",
     "shell.execute_reply.started": "2023-07-28T19:46:02.108440Z"
    }
   },
   "source": [
    "#### Imputation avec le mode\n",
    "\n",
    "Nous allons utiliser le mode de la variable catégoruielle pour comble les valeurs manquantes. "
   ]
  },
  {
   "cell_type": "code",
   "execution_count": 11,
   "id": "699eeddc",
   "metadata": {
    "execution": {
     "iopub.execute_input": "2023-08-17T08:57:26.809412Z",
     "iopub.status.busy": "2023-08-17T08:57:26.809032Z",
     "iopub.status.idle": "2023-08-17T08:57:26.848681Z",
     "shell.execute_reply": "2023-08-17T08:57:26.847410Z",
     "shell.execute_reply.started": "2023-08-17T08:57:26.809379Z"
    }
   },
   "outputs": [],
   "source": [
    "mode_imputer = SimpleImputer(missing_values=-1, strategy='most_frequent')\n",
    "train['ps_car_11'] = mode_imputer.fit_transform(train[['ps_car_11']]).ravel()"
   ]
  },
  {
   "cell_type": "markdown",
   "id": "490acf4e",
   "metadata": {},
   "source": [
    "#### Inspection de la cible\n",
    "\n",
    "Comme observé précédemment, la cible ne contient que deux valeurs, 0 et 1. Visualisons-les :"
   ]
  },
  {
   "cell_type": "code",
   "execution_count": 12,
   "id": "4e9d3597",
   "metadata": {
    "execution": {
     "iopub.execute_input": "2023-08-17T08:57:26.850893Z",
     "iopub.status.busy": "2023-08-17T08:57:26.850084Z",
     "iopub.status.idle": "2023-08-17T08:57:27.101371Z",
     "shell.execute_reply": "2023-08-17T08:57:27.100005Z",
     "shell.execute_reply.started": "2023-08-17T08:57:26.850853Z"
    }
   },
   "outputs": [
    {
     "data": {
      "image/png": "[encoded data removed]",
      "text/plain": [
       "<Figure size 432x288 with 1 Axes>"
      ]
     },
     "metadata": {
      "needs_background": "light"
     },
     "output_type": "display_data"
    }
   ],
   "source": [
    "sns.countplot(x='target', data=train)\n",
    "# Labels and title\n",
    "plt.xlabel('Class')\n",
    "plt.ylabel('Count')\n",
    "plt.title('Target')\n",
    "\n",
    "# Display the plot\n",
    "plt.show()"
   ]
  },
  {
   "cell_type": "markdown",
   "id": "6b2db0d7",
   "metadata": {},
   "source": [
    "On peut constater que notre variable cible est très déséquilibrée, avec une grande majorité de zéros et très peu de uns. Cette situation est courante dans le monde de l'assurance, où la plupart des individus n'ont pas de sinistres tandis que seulement quelques-uns en ont.On peut constater que nous avons un variable civ-ble qui est tres désiquilibré avec beaucoup de 0 et tres peu de un. cette situation est très présente dans le monde de l'assurance car nous avons beaucoup d'individus sans sinsitre et quelques individue ont des sinsitres. "
   ]
  },
  {
   "cell_type": "markdown",
   "id": "6d543a40",
   "metadata": {},
   "source": [
    "### 5. Correlation \n",
    "\n",
    "#### Type de données\n",
    "\n",
    "Comme indiqué précédemment, l'ensemble de données est composé de données de type entier (integers) et réel (float). Séparons-les pour obtenir la corrélation entre les variables :"
   ]
  },
  {
   "cell_type": "markdown",
   "id": "da0ab863",
   "metadata": {},
   "source": [
    "#### Float features"
   ]
  },
  {
   "cell_type": "code",
   "execution_count": 13,
   "id": "95d25b9b",
   "metadata": {
    "execution": {
     "iopub.execute_input": "2023-08-17T08:57:27.103378Z",
     "iopub.status.busy": "2023-08-17T08:57:27.102972Z",
     "iopub.status.idle": "2023-08-17T08:57:27.198768Z",
     "shell.execute_reply": "2023-08-17T08:57:27.197392Z",
     "shell.execute_reply.started": "2023-08-17T08:57:27.103342Z"
    }
   },
   "outputs": [],
   "source": [
    "train_float = train.select_dtypes(include=['float64'])\n",
    "train_int = train.select_dtypes(include=['int64'])"
   ]
  },
  {
   "cell_type": "code",
   "execution_count": 14,
   "id": "4e7a44af",
   "metadata": {
    "execution": {
     "iopub.execute_input": "2023-08-17T08:57:27.202139Z",
     "iopub.status.busy": "2023-08-17T08:57:27.200743Z",
     "iopub.status.idle": "2023-08-17T08:57:28.259390Z",
     "shell.execute_reply": "2023-08-17T08:57:28.258110Z",
     "shell.execute_reply.started": "2023-08-17T08:57:27.202093Z"
    }
   },
   "outputs": [
    {
     "data": {
      "image/png": "[encoded data removed]",
      "text/plain": [
       "<Figure size 1152x864 with 2 Axes>"
      ]
     },
     "metadata": {
      "needs_background": "light"
     },
     "output_type": "display_data"
    }
   ],
   "source": [
    "colormap = \"flare\"\n",
    "plt.figure(figsize=(16,12))\n",
    "plt.title('Pearson correlation of float features', y=1.03, size=15)\n",
    "sns.heatmap(train_float.corr(),linewidths=0.1,vmax=1.0, square=True, \n",
    "            cmap=colormap, linecolor='white', annot=True);"
   ]
  },
  {
   "cell_type": "markdown",
   "id": "3a3076ae",
   "metadata": {},
   "source": [
    "\n",
    "\n",
    "Analyse :\n",
    "\n",
    "La plupart des caractéristiques présentent une corrélation proche de zéro ou aucune corrélation entre elles. Les seules qui montrent une corrélation linéaire positive sont les suivantes :\n",
    "\n",
    "* ps_reg_01 et ps_reg_02\n",
    "* ps_reg_01 et ps_reg_03\n",
    "* ps_reg_02 et ps_reg_03\n",
    "* ps_car_12 et ps_car_13\n",
    "* ps_car_13 et ps_car_15"
   ]
  },
  {
   "cell_type": "markdown",
   "id": "c0ff5961",
   "metadata": {},
   "source": [
    "#### Integer features\n",
    "\n",
    "Étant donné que le nombre de caractéristiques entières est beaucoup plus élevé que celui des caractéristiques réelles, la heatmap rendra impossible la lecture des corrélations à l'intérieur de chaque carré. C'est pourquoi la heatmap interactive a été choisie."
   ]
  },
  {
   "cell_type": "code",
   "execution_count": 15,
   "id": "8f4ccc36",
   "metadata": {
    "execution": {
     "iopub.execute_input": "2023-08-17T08:57:28.261585Z",
     "iopub.status.busy": "2023-08-17T08:57:28.261198Z",
     "iopub.status.idle": "2023-08-17T08:57:33.445159Z",
     "shell.execute_reply": "2023-08-17T08:57:33.443851Z",
     "shell.execute_reply.started": "2023-08-17T08:57:28.261542Z"
    }
   },
   "outputs": [
    {
     "data": {
      "image/png": "[encoded data removed]",
      "text/plain": [
       "<Figure size 1152x864 with 2 Axes>"
      ]
     },
     "metadata": {
      "needs_background": "light"
     },
     "output_type": "display_data"
    }
   ],
   "source": [
    "colormap = \"flare\"\n",
    "plt.figure(figsize=(16,12))\n",
    "plt.title('Pearson correlation of float features', y=1.03, size=15)\n",
    "sns.heatmap(train_int.corr(),linewidths=0.1, vmax=1.0, square=True, \n",
    "            cmap=colormap, linecolor='white', annot=False);"
   ]
  },
  {
   "cell_type": "markdown",
   "id": "c8285f97",
   "metadata": {},
   "source": [
    "Analyse :\n",
    "\n",
    "Comme précédemment, la plupart des caractéristiques présentent une corrélation linéaire proche de zéro ou aucune corrélation entre elles. Dans cette heatmap, nous pouvons également observer certaines caractéristiques ayant une corrélation négative :\n",
    "\n",
    "ps_ind_07_bin\n",
    "ps_ind_06_bin\n",
    "ps_ind_16_bin\n",
    "ps_ind_17_bin\n",
    "ps_ind_18_bin\n",
    "La corrélation positive la plus élevée à noter est entre :\n",
    "\n",
    "ps_ind_14 / ps_ind_12_bin : z = 0.89\n",
    "ps_ind_14 / ps_ind_11_bin : z = 0.56\n",
    "Une corrélation intéressante à noter est entre ps_car_03_cat / ps_car_05_cat (z = 0.489). Les deux variables contiennent la plupart de leurs valeurs manquantes, ce qui pourrait expliquer la corrélation raisonnable entre elles."
   ]
  },
  {
   "cell_type": "markdown",
   "id": "731a2565",
   "metadata": {},
   "source": [
    "#### Analyse des caractéristiques binaires\n",
    "\n",
    "Les caractéristiques binaires, qui n'ont que deux valeurs possibles (par exemple, 0 et 1, Vrai et Faux), peuvent fournir des informations précieuses et jouer un rôle significatif dans une analyse de données ou un projet d'apprentissage automatique."
   ]
  },
  {
   "cell_type": "code",
   "execution_count": 16,
   "id": "bbf9a602",
   "metadata": {
    "execution": {
     "iopub.execute_input": "2023-08-17T08:57:33.447112Z",
     "iopub.status.busy": "2023-08-17T08:57:33.446678Z",
     "iopub.status.idle": "2023-08-17T08:57:33.507226Z",
     "shell.execute_reply": "2023-08-17T08:57:33.505786Z",
     "shell.execute_reply.started": "2023-08-17T08:57:33.447063Z"
    }
   },
   "outputs": [],
   "source": [
    "# List of binary columns\n",
    "bin_col = [col for col in train.columns if '_bin' in col]\n",
    "\n",
    "# Create lists to store the count of zeros and ones\n",
    "zero_list = []\n",
    "one_list = []\n",
    "for col in bin_col:\n",
    "    zero_list.append((train[col]==0).sum())\n",
    "    one_list.append((train[col]==1).sum())"
   ]
  },
  {
   "cell_type": "code",
   "execution_count": 17,
   "id": "4f42b284",
   "metadata": {
    "execution": {
     "iopub.execute_input": "2023-08-17T08:57:33.509104Z",
     "iopub.status.busy": "2023-08-17T08:57:33.508700Z",
     "iopub.status.idle": "2023-08-17T08:57:34.463138Z",
     "shell.execute_reply": "2023-08-17T08:57:34.461956Z",
     "shell.execute_reply.started": "2023-08-17T08:57:33.509070Z"
    }
   },
   "outputs": [
    {
     "data": {
      "text/html": [
       "        <script type=\"text/javascript\">\n",
       "        window.PlotlyConfig = {MathJaxConfig: 'local'};\n",
       "        if (window.MathJax && window.MathJax.Hub && window.MathJax.Hub.Config) {window.MathJax.Hub.Config({SVG: {font: \"STIX-Web\"}});}\n",
       "        if (typeof require !== 'undefined') {\n",
       "        require.undef(\"plotly\");\n",
       "        requirejs.config({\n",
       "            paths: {\n",
       "                'plotly': ['https://cdn.plot.ly/plotly-2.18.0.min']\n",
       "            }\n",
       "        });\n",
       "        require(['plotly'], function(Plotly) {\n",
       "            window._Plotly = Plotly;\n",
       "        });\n",
       "        }\n",
       "        </script>\n",
       "        "
      ]
     },
     "metadata": {},
     "output_type": "display_data"
    },
    {
     "data": {
      "text/html": [
       "<div>                            <div id=\"45ed5594-4ac8-4932-bd57-d6cbe8ad9831\" class=\"plotly-graph-div\" style=\"height:525px; width:100%;\"></div>            <script type=\"text/javascript\">                require([\"plotly\"], function(Plotly) {                    window.PLOTLYENV=window.PLOTLYENV || {};                                    if (document.getElementById(\"45ed5594-4ac8-4932-bd57-d6cbe8ad9831\")) {                    Plotly.newPlot(                        \"45ed5594-4ac8-4932-bd57-d6cbe8ad9831\",                        [{\"name\":\"Zero count\",\"x\":[\"ps_ind_06_bin\",\"ps_ind_07_bin\",\"ps_ind_08_bin\",\"ps_ind_09_bin\",\"ps_ind_10_bin\",\"ps_ind_11_bin\",\"ps_ind_12_bin\",\"ps_ind_13_bin\",\"ps_ind_16_bin\",\"ps_ind_17_bin\",\"ps_ind_18_bin\",\"ps_calc_15_bin\",\"ps_calc_16_bin\",\"ps_calc_17_bin\",\"ps_calc_18_bin\",\"ps_calc_19_bin\",\"ps_calc_20_bin\"],\"y\":[360852,442223,497644,484917,594990,594205,589594,594648,201882,523143,503879,522342,221514,265356,424278,387469,503955],\"type\":\"bar\"},{\"name\":\"One count\",\"x\":[\"ps_ind_06_bin\",\"ps_ind_07_bin\",\"ps_ind_08_bin\",\"ps_ind_09_bin\",\"ps_ind_10_bin\",\"ps_ind_11_bin\",\"ps_ind_12_bin\",\"ps_ind_13_bin\",\"ps_ind_16_bin\",\"ps_ind_17_bin\",\"ps_ind_18_bin\",\"ps_calc_15_bin\",\"ps_calc_16_bin\",\"ps_calc_17_bin\",\"ps_calc_18_bin\",\"ps_calc_19_bin\",\"ps_calc_20_bin\"],\"y\":[234360,152989,97568,110295,222,1007,5618,564,393330,72069,91333,72870,373698,329856,170934,207743,91257],\"type\":\"bar\"}],                        {\"barmode\":\"stack\",\"template\":{\"data\":{\"barpolar\":[{\"marker\":{\"line\":{\"color\":\"#E5ECF6\",\"width\":0.5},\"pattern\":{\"fillmode\":\"overlay\",\"size\":10,\"solidity\":0.2}},\"type\":\"barpolar\"}],\"bar\":[{\"error_x\":{\"color\":\"#2a3f5f\"},\"error_y\":{\"color\":\"#2a3f5f\"},\"marker\":{\"line\":{\"color\":\"#E5ECF6\",\"width\":0.5},\"pattern\":{\"fillmode\":\"overlay\",\"size\":10,\"solidity\":0.2}},\"type\":\"bar\"}],\"carpet\":[{\"aaxis\":{\"endlinecolor\":\"#2a3f5f\",\"gridcolor\":\"white\",\"linecolor\":\"white\",\"minorgridcolor\":\"white\",\"startlinecolor\":\"#2a3f5f\"},\"baxis\":{\"endlinecolor\":\"#2a3f5f\",\"gridcolor\":\"white\",\"linecolor\":\"white\",\"minorgridcolor\":\"white\",\"startlinecolor\":\"#2a3f5f\"},\"type\":\"carpet\"}],\"choropleth\":[{\"colorbar\":{\"outlinewidth\":0,\"ticks\":\"\"},\"type\":\"choropleth\"}],\"contourcarpet\":[{\"colorbar\":{\"outlinewidth\":0,\"ticks\":\"\"},\"type\":\"contourcarpet\"}],\"contour\":[{\"colorbar\":{\"outlinewidth\":0,\"ticks\":\"\"},\"colorscale\":[[0.0,\"#0d0887\"],[0.1111111111111111,\"#46039f\"],[0.2222222222222222,\"#7201a8\"],[0.3333333333333333,\"#9c179e\"],[0.4444444444444444,\"#bd3786\"],[0.5555555555555556,\"#d8576b\"],[0.6666666666666666,\"#ed7953\"],[0.7777777777777778,\"#fb9f3a\"],[0.8888888888888888,\"#fdca26\"],[1.0,\"#f0f921\"]],\"type\":\"contour\"}],\"heatmapgl\":[{\"colorbar\":{\"outlinewidth\":0,\"ticks\":\"\"},\"colorscale\":[[0.0,\"#0d0887\"],[0.1111111111111111,\"#46039f\"],[0.2222222222222222,\"#7201a8\"],[0.3333333333333333,\"#9c179e\"],[0.4444444444444444,\"#bd3786\"],[0.5555555555555556,\"#d8576b\"],[0.6666666666666666,\"#ed7953\"],[0.7777777777777778,\"#fb9f3a\"],[0.8888888888888888,\"#fdca26\"],[1.0,\"#f0f921\"]],\"type\":\"heatmapgl\"}],\"heatmap\":[{\"colorbar\":{\"outlinewidth\":0,\"ticks\":\"\"},\"colorscale\":[[0.0,\"#0d0887\"],[0.1111111111111111,\"#46039f\"],[0.2222222222222222,\"#7201a8\"],[0.3333333333333333,\"#9c179e\"],[0.4444444444444444,\"#bd3786\"],[0.5555555555555556,\"#d8576b\"],[0.6666666666666666,\"#ed7953\"],[0.7777777777777778,\"#fb9f3a\"],[0.8888888888888888,\"#fdca26\"],[1.0,\"#f0f921\"]],\"type\":\"heatmap\"}],\"histogram2dcontour\":[{\"colorbar\":{\"outlinewidth\":0,\"ticks\":\"\"},\"colorscale\":[[0.0,\"#0d0887\"],[0.1111111111111111,\"#46039f\"],[0.2222222222222222,\"#7201a8\"],[0.3333333333333333,\"#9c179e\"],[0.4444444444444444,\"#bd3786\"],[0.5555555555555556,\"#d8576b\"],[0.6666666666666666,\"#ed7953\"],[0.7777777777777778,\"#fb9f3a\"],[0.8888888888888888,\"#fdca26\"],[1.0,\"#f0f921\"]],\"type\":\"histogram2dcontour\"}],\"histogram2d\":[{\"colorbar\":{\"outlinewidth\":0,\"ticks\":\"\"},\"colorscale\":[[0.0,\"#0d0887\"],[0.1111111111111111,\"#46039f\"],[0.2222222222222222,\"#7201a8\"],[0.3333333333333333,\"#9c179e\"],[0.4444444444444444,\"#bd3786\"],[0.5555555555555556,\"#d8576b\"],[0.6666666666666666,\"#ed7953\"],[0.7777777777777778,\"#fb9f3a\"],[0.8888888888888888,\"#fdca26\"],[1.0,\"#f0f921\"]],\"type\":\"histogram2d\"}],\"histogram\":[{\"marker\":{\"pattern\":{\"fillmode\":\"overlay\",\"size\":10,\"solidity\":0.2}},\"type\":\"histogram\"}],\"mesh3d\":[{\"colorbar\":{\"outlinewidth\":0,\"ticks\":\"\"},\"type\":\"mesh3d\"}],\"parcoords\":[{\"line\":{\"colorbar\":{\"outlinewidth\":0,\"ticks\":\"\"}},\"type\":\"parcoords\"}],\"pie\":[{\"automargin\":true,\"type\":\"pie\"}],\"scatter3d\":[{\"line\":{\"colorbar\":{\"outlinewidth\":0,\"ticks\":\"\"}},\"marker\":{\"colorbar\":{\"outlinewidth\":0,\"ticks\":\"\"}},\"type\":\"scatter3d\"}],\"scattercarpet\":[{\"marker\":{\"colorbar\":{\"outlinewidth\":0,\"ticks\":\"\"}},\"type\":\"scattercarpet\"}],\"scattergeo\":[{\"marker\":{\"colorbar\":{\"outlinewidth\":0,\"ticks\":\"\"}},\"type\":\"scattergeo\"}],\"scattergl\":[{\"marker\":{\"colorbar\":{\"outlinewidth\":0,\"ticks\":\"\"}},\"type\":\"scattergl\"}],\"scattermapbox\":[{\"marker\":{\"colorbar\":{\"outlinewidth\":0,\"ticks\":\"\"}},\"type\":\"scattermapbox\"}],\"scatterpolargl\":[{\"marker\":{\"colorbar\":{\"outlinewidth\":0,\"ticks\":\"\"}},\"type\":\"scatterpolargl\"}],\"scatterpolar\":[{\"marker\":{\"colorbar\":{\"outlinewidth\":0,\"ticks\":\"\"}},\"type\":\"scatterpolar\"}],\"scatter\":[{\"fillpattern\":{\"fillmode\":\"overlay\",\"size\":10,\"solidity\":0.2},\"type\":\"scatter\"}],\"scatterternary\":[{\"marker\":{\"colorbar\":{\"outlinewidth\":0,\"ticks\":\"\"}},\"type\":\"scatterternary\"}],\"surface\":[{\"colorbar\":{\"outlinewidth\":0,\"ticks\":\"\"},\"colorscale\":[[0.0,\"#0d0887\"],[0.1111111111111111,\"#46039f\"],[0.2222222222222222,\"#7201a8\"],[0.3333333333333333,\"#9c179e\"],[0.4444444444444444,\"#bd3786\"],[0.5555555555555556,\"#d8576b\"],[0.6666666666666666,\"#ed7953\"],[0.7777777777777778,\"#fb9f3a\"],[0.8888888888888888,\"#fdca26\"],[1.0,\"#f0f921\"]],\"type\":\"surface\"}],\"table\":[{\"cells\":{\"fill\":{\"color\":\"#EBF0F8\"},\"line\":{\"color\":\"white\"}},\"header\":{\"fill\":{\"color\":\"#C8D4E3\"},\"line\":{\"color\":\"white\"}},\"type\":\"table\"}]},\"layout\":{\"annotationdefaults\":{\"arrowcolor\":\"#2a3f5f\",\"arrowhead\":0,\"arrowwidth\":1},\"autotypenumbers\":\"strict\",\"coloraxis\":{\"colorbar\":{\"outlinewidth\":0,\"ticks\":\"\"}},\"colorscale\":{\"diverging\":[[0,\"#8e0152\"],[0.1,\"#c51b7d\"],[0.2,\"#de77ae\"],[0.3,\"#f1b6da\"],[0.4,\"#fde0ef\"],[0.5,\"#f7f7f7\"],[0.6,\"#e6f5d0\"],[0.7,\"#b8e186\"],[0.8,\"#7fbc41\"],[0.9,\"#4d9221\"],[1,\"#276419\"]],\"sequential\":[[0.0,\"#0d0887\"],[0.1111111111111111,\"#46039f\"],[0.2222222222222222,\"#7201a8\"],[0.3333333333333333,\"#9c179e\"],[0.4444444444444444,\"#bd3786\"],[0.5555555555555556,\"#d8576b\"],[0.6666666666666666,\"#ed7953\"],[0.7777777777777778,\"#fb9f3a\"],[0.8888888888888888,\"#fdca26\"],[1.0,\"#f0f921\"]],\"sequentialminus\":[[0.0,\"#0d0887\"],[0.1111111111111111,\"#46039f\"],[0.2222222222222222,\"#7201a8\"],[0.3333333333333333,\"#9c179e\"],[0.4444444444444444,\"#bd3786\"],[0.5555555555555556,\"#d8576b\"],[0.6666666666666666,\"#ed7953\"],[0.7777777777777778,\"#fb9f3a\"],[0.8888888888888888,\"#fdca26\"],[1.0,\"#f0f921\"]]},\"colorway\":[\"#636efa\",\"#EF553B\",\"#00cc96\",\"#ab63fa\",\"#FFA15A\",\"#19d3f3\",\"#FF6692\",\"#B6E880\",\"#FF97FF\",\"#FECB52\"],\"font\":{\"color\":\"#2a3f5f\"},\"geo\":{\"bgcolor\":\"white\",\"lakecolor\":\"white\",\"landcolor\":\"#E5ECF6\",\"showlakes\":true,\"showland\":true,\"subunitcolor\":\"white\"},\"hoverlabel\":{\"align\":\"left\"},\"hovermode\":\"closest\",\"mapbox\":{\"style\":\"light\"},\"paper_bgcolor\":\"white\",\"plot_bgcolor\":\"#E5ECF6\",\"polar\":{\"angularaxis\":{\"gridcolor\":\"white\",\"linecolor\":\"white\",\"ticks\":\"\"},\"bgcolor\":\"#E5ECF6\",\"radialaxis\":{\"gridcolor\":\"white\",\"linecolor\":\"white\",\"ticks\":\"\"}},\"scene\":{\"xaxis\":{\"backgroundcolor\":\"#E5ECF6\",\"gridcolor\":\"white\",\"gridwidth\":2,\"linecolor\":\"white\",\"showbackground\":true,\"ticks\":\"\",\"zerolinecolor\":\"white\"},\"yaxis\":{\"backgroundcolor\":\"#E5ECF6\",\"gridcolor\":\"white\",\"gridwidth\":2,\"linecolor\":\"white\",\"showbackground\":true,\"ticks\":\"\",\"zerolinecolor\":\"white\"},\"zaxis\":{\"backgroundcolor\":\"#E5ECF6\",\"gridcolor\":\"white\",\"gridwidth\":2,\"linecolor\":\"white\",\"showbackground\":true,\"ticks\":\"\",\"zerolinecolor\":\"white\"}},\"shapedefaults\":{\"line\":{\"color\":\"#2a3f5f\"}},\"ternary\":{\"aaxis\":{\"gridcolor\":\"white\",\"linecolor\":\"white\",\"ticks\":\"\"},\"baxis\":{\"gridcolor\":\"white\",\"linecolor\":\"white\",\"ticks\":\"\"},\"bgcolor\":\"#E5ECF6\",\"caxis\":{\"gridcolor\":\"white\",\"linecolor\":\"white\",\"ticks\":\"\"}},\"title\":{\"x\":0.05},\"xaxis\":{\"automargin\":true,\"gridcolor\":\"white\",\"linecolor\":\"white\",\"ticks\":\"\",\"title\":{\"standoff\":15},\"zerolinecolor\":\"white\",\"zerolinewidth\":2},\"yaxis\":{\"automargin\":true,\"gridcolor\":\"white\",\"linecolor\":\"white\",\"ticks\":\"\",\"title\":{\"standoff\":15},\"zerolinecolor\":\"white\",\"zerolinewidth\":2}}},\"title\":{\"text\":\"Count binary variables\"}},                        {\"responsive\": true}                    ).then(function(){\n",
       "                            \n",
       "var gd = document.getElementById('45ed5594-4ac8-4932-bd57-d6cbe8ad9831');\n",
       "var x = new MutationObserver(function (mutations, observer) {{\n",
       "        var display = window.getComputedStyle(gd).display;\n",
       "        if (!display || display === 'none') {{\n",
       "            console.log([gd, 'removed!']);\n",
       "            Plotly.purge(gd);\n",
       "            observer.disconnect();\n",
       "        }}\n",
       "}});\n",
       "\n",
       "// Listen for the removal of the full notebook cells\n",
       "var notebookContainer = gd.closest('#notebook-container');\n",
       "if (notebookContainer) {{\n",
       "    x.observe(notebookContainer, {childList: true});\n",
       "}}\n",
       "\n",
       "// Listen for the clearing of the current output cell\n",
       "var outputEl = gd.closest('.output');\n",
       "if (outputEl) {{\n",
       "    x.observe(outputEl, {childList: true});\n",
       "}}\n",
       "\n",
       "                        })                };                });            </script>        </div>"
      ]
     },
     "metadata": {},
     "output_type": "display_data"
    }
   ],
   "source": [
    "# Create go.Bar for each list\n",
    "bar_zero = go.Bar(\n",
    "    x=bin_col,\n",
    "    y=zero_list ,\n",
    "    name='Zero count'\n",
    ")\n",
    "bar_one = go.Bar(\n",
    "    x=bin_col,\n",
    "    y=one_list,\n",
    "    name='One count'\n",
    ")\n",
    "\n",
    "# Create the layout\n",
    "data = [bar_zero, bar_one]\n",
    "layout = go.Layout(\n",
    "    barmode='stack',\n",
    "    title='Count binary variables'\n",
    ")\n",
    "\n",
    "fig = go.Figure(data=data, layout=layout)\n",
    "py.iplot(fig, filename='binary-stacked-bar')\n",
    "#plt.savefig('graph/binary-stacked-bar.png') # used only in local jupiter notebook"
   ]
  },
  {
   "cell_type": "markdown",
   "id": "d794a20d",
   "metadata": {},
   "source": [
    "Analyse :\n",
    "\n",
    "Nous pouvons observer que certaines caractéristiques sont principalement composées de 0, telles que :\n",
    "\n",
    "- ps_ind_10_bin\n",
    "- ps_ind_11_bin\n",
    "- ps_ind_12_bin\n",
    "- ps_ind_13_bin\n",
    "\n",
    "Cette observation complète l'analyse précédente basée sur l'information mutuelle, indiquant que ces caractéristiques pourraient ne pas être utiles car ce sont les moins pertinentes pour un problème de classification. "
   ]
  },
  {
   "cell_type": "code",
   "execution_count": 18,
   "id": "4ba809cc",
   "metadata": {
    "execution": {
     "iopub.execute_input": "2023-08-17T08:57:34.465866Z",
     "iopub.status.busy": "2023-08-17T08:57:34.464988Z",
     "iopub.status.idle": "2023-08-17T08:57:34.675343Z",
     "shell.execute_reply": "2023-08-17T08:57:34.673818Z",
     "shell.execute_reply.started": "2023-08-17T08:57:34.465809Z"
    }
   },
   "outputs": [],
   "source": [
    "train.drop([\"ps_ind_10_bin\", \"ps_ind_11_bin\", \"ps_ind_12_bin\", \"ps_ind_13_bin\"], inplace=True, axis=1)\n",
    "\n",
    "test.drop([\"ps_ind_10_bin\", \"ps_ind_11_bin\", \"ps_ind_12_bin\", \"ps_ind_13_bin\"], inplace=True, axis=1)"
   ]
  },
  {
   "cell_type": "markdown",
   "id": "296f72ab",
   "metadata": {},
   "source": [
    "### Modèles de Machine learning\n",
    "\n",
    "Nous allons tester plusieurs modèles, en commençant par le plus simple qui consiste à utiliser une régression logistique classique. Ensuite, nous évaluerons le Random Forest, le Gradient Boosting et le Lightgbm.\n",
    "\n",
    "Pour chacun de ces modèles, nous mettrons en place un système de validation croisée en divisant notre ensemble d'apprentissage en ensemble d'entraînement et ensemble de validation. Nous entraînerons nos modèles sur l'ensemble d'entraînement et les évaluerons sur l'ensemble de validation. Cette expérience sera répétée plusieurs fois, et nous prendrons la moyenne des résultats sur chaque ensemble de validation.\n",
    "\n",
    "Nous serons particulièrement attentifs au sur-apprentissage pour chaque algorithme et nous appliquerons une régularisation importante pour l'empêcher.\n",
    "\n",
    "Nous allons également effectuer une recherche de grille (grid search) pour chaque modèle en utilisant la validation croisée (cross-validation).\n",
    "\n",
    "- Recherche de grille (Grid Search) :\n",
    "\n",
    "La recherche de grille est une technique utilisée pour sélectionner les meilleurs hyperparamètres d'un algorithme d'apprentissage automatique. Les hyperparamètres sont les paramètres que nous devons définir avant de lancer l'apprentissage du modèle, et ils influencent la performance et la complexité du modèle. Par exemple, dans un modèle de régression logistique, l'hyperparamètre peut être le taux d'apprentissage ou la régularisation.\n",
    "La recherche de grille consiste à définir une \"grille\" de valeurs possibles pour chaque hyperparamètre. Ensuite, nous testons toutes les combinaisons possibles de ces valeurs pour trouver la combinaison qui donne la meilleure performance du modèle. Pour chaque combinaison d'hyperparamètres, nous entraînons le modèle et l'évaluons sur un ensemble de validation.\n",
    "\n",
    "- Validation croisée (Cross-Validation) :\n",
    "\n",
    "La validation croisée est une méthode d'évaluation des performances d'un modèle qui consiste à diviser l'ensemble de données en plusieurs parties, appelées \"plis\" (folds). L'idée est de s'assurer que le modèle est bien généralisable et qu'il ne surapprend pas aux données d'apprentissage.\n",
    "Le processus de validation croisée se déroule comme suit :\n",
    "\n",
    "1. Divisez l'ensemble de données en k plis.\n",
    "2. Entraînez le modèle sur k-1 plis et évaluez-le sur le pli restant.\n",
    "3. Répétez cette étape k fois, de manière à ce que chaque pli soit utilisé comme ensemble de validation une fois.\n",
    "4. Calculez la moyenne des performances du modèle sur les k évaluations pour obtenir une estimation plus robuste de ses performances.\n",
    "\n",
    "La validation croisée est particulièrement utile lorsque l'ensemble de données est limité, car elle permet d'obtenir une estimation plus fiable de la performance du modèle en utilisant toutes les données disponibles. En utilisant la validation croisée avec la recherche de grille, nous pouvons sélectionner les meilleurs hyperparamètres de manière plus robuste et éviter de biaiser notre choix en fonction d'une seule division des données.\n",
    "\n",
    "\n",
    "Pour classer nos modeles, nous allons utiliser l'AUC et la matrice e confusion.\n",
    "\n",
    "1. AUC (Area Under the Curve) :\n",
    "L'AUC (Area Under the Curve) est une mesure d'évaluation couramment utilisée en apprentissage automatique pour évaluer la performance d'un modèle de classification binaire. Cette mesure quantifie la capacité d'un modèle à distinguer entre les classes positives et négatives.\n",
    "\n",
    "Dans le contexte de la courbe ROC (Receiver Operating Characteristic), l'AUC représente la surface sous la courbe ROC. La courbe ROC est un graphique qui représente le taux de vrais positifs (True Positive Rate - TPR) en fonction du taux de faux positifs (False Positive Rate - FPR) pour différents seuils de classification. Un modèle idéal aurait un AUC de 1, indiquant qu'il a une capacité parfaite à distinguer les classes positives et négatives. Un modèle qui prédit aléatoirement aurait un AUC de 0.5, car sa courbe ROC serait une ligne droite diagonale.\n",
    "\n",
    "2. Matrice de confusion :\n",
    "La matrice de confusion est une table qui permet d'évaluer les performances d'un modèle de classification en comparant les prédictions du modèle aux valeurs réelles de la classe cible.\n",
    "\n",
    "Elle est généralement de forme 2x2 pour un problème de classification binaire et ressemble à ceci :\n",
    "\n",
    "* Vrai positif (True Positive - TP) : le modèle prédit correctement une instance de la classe positive (la classe que l'on souhaite prédire).\n",
    "* Faux positif (False Positive - FP) : le modèle prédit à tort une instance de la classe positive.\n",
    "* Faux négatif (False Negative - FN) : le modèle prédit à tort une instance de la classe négative (la classe que l'on ne souhaite pas prédire).\n",
    "* Vrai négatif (True Negative - TN) : le modèle prédit correctement une instance de la classe négative.\n",
    "\n",
    "La matrice de confusion permet de calculer différentes métriques d'évaluation du modèle, telles que la précision, le rappel, le F-score, etc. Elle offre une vue globale des performances du modèle en mettant en évidence les erreurs de classification effectuées par celui-ci."
   ]
  },
  {
   "cell_type": "markdown",
   "id": "de0e3a4c",
   "metadata": {
    "execution": {
     "iopub.execute_input": "2023-07-20T09:49:39.446431Z",
     "iopub.status.busy": "2023-07-20T09:49:39.445513Z",
     "iopub.status.idle": "2023-07-20T09:49:39.450630Z",
     "shell.execute_reply": "2023-07-20T09:49:39.449622Z",
     "shell.execute_reply.started": "2023-07-20T09:49:39.446374Z"
    }
   },
   "source": [
    "#### One hot Encodding "
   ]
  },
  {
   "cell_type": "code",
   "execution_count": 19,
   "id": "c92c3c09",
   "metadata": {
    "execution": {
     "iopub.execute_input": "2023-08-17T08:57:34.678228Z",
     "iopub.status.busy": "2023-08-17T08:57:34.677203Z",
     "iopub.status.idle": "2023-08-17T08:57:34.684795Z",
     "shell.execute_reply": "2023-08-17T08:57:34.683618Z",
     "shell.execute_reply.started": "2023-08-17T08:57:34.678173Z"
    }
   },
   "outputs": [],
   "source": [
    "cat_features = [feat for feat in train.columns if \"_cat\" in feat]"
   ]
  },
  {
   "cell_type": "code",
   "execution_count": 20,
   "id": "5bd585e1",
   "metadata": {
    "execution": {
     "iopub.execute_input": "2023-08-17T08:57:34.687421Z",
     "iopub.status.busy": "2023-08-17T08:57:34.686631Z",
     "iopub.status.idle": "2023-08-17T08:57:37.316416Z",
     "shell.execute_reply": "2023-08-17T08:57:37.315344Z",
     "shell.execute_reply.started": "2023-08-17T08:57:34.687371Z"
    }
   },
   "outputs": [],
   "source": [
    "train = pd.get_dummies(train, columns=cat_features)\n",
    "test = pd.get_dummies(test, columns=cat_features)"
   ]
  },
  {
   "cell_type": "code",
   "execution_count": 21,
   "id": "f7768d96",
   "metadata": {
    "execution": {
     "iopub.execute_input": "2023-08-17T08:57:37.318305Z",
     "iopub.status.busy": "2023-08-17T08:57:37.317951Z",
     "iopub.status.idle": "2023-08-17T08:57:38.474903Z",
     "shell.execute_reply": "2023-08-17T08:57:38.473483Z",
     "shell.execute_reply.started": "2023-08-17T08:57:37.318273Z"
    }
   },
   "outputs": [],
   "source": [
    "y_train = train['target']\n",
    "X_train_ = train.drop(['target', 'id'], axis=1)\n",
    "test = test.drop(['id'], inplace=True, axis=1)"
   ]
  },
  {
   "cell_type": "code",
   "execution_count": 22,
   "id": "feb29cf2",
   "metadata": {
    "execution": {
     "iopub.execute_input": "2023-08-17T08:57:38.476979Z",
     "iopub.status.busy": "2023-08-17T08:57:38.476559Z",
     "iopub.status.idle": "2023-08-17T08:57:39.770536Z",
     "shell.execute_reply": "2023-08-17T08:57:39.769269Z",
     "shell.execute_reply.started": "2023-08-17T08:57:38.476930Z"
    }
   },
   "outputs": [],
   "source": [
    "X_train, X_test, y_train, y_test = train_test_split(X_train_, y_train, test_size=0.20, random_state=42)"
   ]
  },
  {
   "cell_type": "markdown",
   "id": "3a1fdbc2",
   "metadata": {
    "execution": {
     "iopub.execute_input": "2023-07-20T09:49:44.186342Z",
     "iopub.status.busy": "2023-07-20T09:49:44.185742Z",
     "iopub.status.idle": "2023-07-20T09:49:44.191802Z",
     "shell.execute_reply": "2023-07-20T09:49:44.190191Z",
     "shell.execute_reply.started": "2023-07-20T09:49:44.186309Z"
    }
   },
   "source": [
    "### La régression logistique\n",
    "\n",
    "Le premier modèle est un modèle paramétrique utilisé pour la classification binaire.\n",
    "\n",
    "Avantages: \n",
    "- Facile à mettre en œuvre et à interpréter, tout en étant efficace lors de l'entraînement.\n",
    "- Les paramètres prédits fournissent des informations sur l'importance de chaque caractéristique.\n",
    "- Bonne performance sur des données à faible dimensionnalité.\n",
    "- Très efficace lorsque l'ensemble de données a des caractéristiques qui sont linéairement séparables.\n",
    "- Fournit des probabilités bien calibrées en plus des résultats de classification.\n",
    "\n",
    "Inconvénients:\n",
    "- Surapprentissage sur des données à haute dimensionnalité.\n",
    "- Les problèmes non linéaires ne peuvent pas être résolus avec la régression logistique car elle a une surface de décision linéaire.\n",
    "- Suppose une linéarité entre les variables dépendantes et indépendantes.\n",
    "- N'arrive pas à capturer des relations complexes.\n",
    "- Seules les caractéristiques importantes et pertinentes devraient être utilisées, sinon la valeur prédictive du modèle se dégradera."
   ]
  },
  {
   "cell_type": "code",
   "execution_count": 23,
   "id": "b247d86a",
   "metadata": {
    "execution": {
     "iopub.execute_input": "2023-08-17T08:57:39.772433Z",
     "iopub.status.busy": "2023-08-17T08:57:39.772082Z",
     "iopub.status.idle": "2023-08-17T08:57:39.779725Z",
     "shell.execute_reply": "2023-08-17T08:57:39.778358Z",
     "shell.execute_reply.started": "2023-08-17T08:57:39.772398Z"
    }
   },
   "outputs": [],
   "source": [
    "param_grid = {\n",
    "    \"C\":np.logspace(-3,3,7), \n",
    "    \"penalty\":[\"l1\",\"l2\"]\n",
    "}\n",
    "#clf_Logistic=LogisticRegression()\n",
    "#logreg_cv=GridSearchCV(clf_Logistic, param_grid, cv=5, n_jobs=-1, verbose=2))\n",
    "#logreg_cv.fit(X_train, y_train)\n",
    "#logreg_cv.best_params_ \n",
    "\n",
    "#{'C': 1.0, 'penalty': 'l2'}"
   ]
  },
  {
   "cell_type": "code",
   "execution_count": 24,
   "id": "ea484dff",
   "metadata": {
    "execution": {
     "iopub.execute_input": "2023-08-17T08:57:39.781928Z",
     "iopub.status.busy": "2023-08-17T08:57:39.781063Z",
     "iopub.status.idle": "2023-08-17T08:57:59.549086Z",
     "shell.execute_reply": "2023-08-17T08:57:59.547394Z",
     "shell.execute_reply.started": "2023-08-17T08:57:39.781892Z"
    }
   },
   "outputs": [
    {
     "name": "stderr",
     "output_type": "stream",
     "text": [
      "/opt/conda/lib/python3.7/site-packages/sklearn/linear_model/_logistic.py:818: ConvergenceWarning:\n",
      "\n",
      "lbfgs failed to converge (status=1):\n",
      "STOP: TOTAL NO. of ITERATIONS REACHED LIMIT.\n",
      "\n",
      "Increase the number of iterations (max_iter) or scale the data as shown in:\n",
      "    https://scikit-learn.org/stable/modules/preprocessing.html\n",
      "Please also refer to the documentation for alternative solver options:\n",
      "    https://scikit-learn.org/stable/modules/linear_model.html#logistic-regression\n",
      "\n"
     ]
    }
   ],
   "source": [
    "clf_Logistic = LogisticRegression(C= 1.0, penalty= 'l2').fit(X_train, y_train)"
   ]
  },
  {
   "cell_type": "code",
   "execution_count": 25,
   "id": "a73515c8",
   "metadata": {
    "execution": {
     "iopub.execute_input": "2023-08-17T08:57:59.552432Z",
     "iopub.status.busy": "2023-08-17T08:57:59.551418Z",
     "iopub.status.idle": "2023-08-17T08:57:59.841026Z",
     "shell.execute_reply": "2023-08-17T08:57:59.839252Z",
     "shell.execute_reply.started": "2023-08-17T08:57:59.552368Z"
    }
   },
   "outputs": [],
   "source": [
    "y_pred__Logistic = clf_Logistic.predict(X_test)\n",
    "y_pred__Logistic_proba = clf_Logistic.predict_proba(X_test)"
   ]
  },
  {
   "cell_type": "code",
   "execution_count": 26,
   "id": "0e1c4831",
   "metadata": {
    "execution": {
     "iopub.execute_input": "2023-08-17T08:57:59.845122Z",
     "iopub.status.busy": "2023-08-17T08:57:59.843848Z",
     "iopub.status.idle": "2023-08-17T08:57:59.905131Z",
     "shell.execute_reply": "2023-08-17T08:57:59.903435Z",
     "shell.execute_reply.started": "2023-08-17T08:57:59.845053Z"
    }
   },
   "outputs": [
    {
     "name": "stdout",
     "output_type": "stream",
     "text": [
      "Confusion matrix\n",
      "\n",
      " [[114658      0]\n",
      " [  4385      0]]\n",
      "\n",
      "True Positives(TP) =  114658\n",
      "\n",
      "True Negatives(TN) =  0\n",
      "\n",
      "False Positives(FP) =  0\n",
      "\n",
      "False Negatives(FN) =  4385\n"
     ]
    }
   ],
   "source": [
    "cm__Logistic = confusion_matrix(y_test, y_pred__Logistic)\n",
    "print('Confusion matrix\\n\\n', cm__Logistic)\n",
    "print('\\nTrue Positives(TP) = ', cm__Logistic[0,0])\n",
    "print('\\nTrue Negatives(TN) = ', cm__Logistic[1,1])\n",
    "print('\\nFalse Positives(FP) = ', cm__Logistic[0,1])\n",
    "print('\\nFalse Negatives(FN) = ', cm__Logistic[1,0])"
   ]
  },
  {
   "cell_type": "code",
   "execution_count": 27,
   "id": "80bc3b2c",
   "metadata": {
    "execution": {
     "iopub.execute_input": "2023-08-17T08:57:59.909417Z",
     "iopub.status.busy": "2023-08-17T08:57:59.908079Z",
     "iopub.status.idle": "2023-08-17T08:57:59.977699Z",
     "shell.execute_reply": "2023-08-17T08:57:59.976390Z",
     "shell.execute_reply.started": "2023-08-17T08:57:59.909341Z"
    }
   },
   "outputs": [
    {
     "data": {
      "text/plain": [
       "0.6283755131740453"
      ]
     },
     "execution_count": 27,
     "metadata": {},
     "output_type": "execute_result"
    }
   ],
   "source": [
    "roc_auc_score(y_test, y_pred__Logistic_proba[:,1])"
   ]
  },
  {
   "cell_type": "markdown",
   "id": "2414ec87",
   "metadata": {},
   "source": [
    "#### Importance des variables. "
   ]
  },
  {
   "cell_type": "code",
   "execution_count": 28,
   "id": "6c75fead",
   "metadata": {
    "execution": {
     "iopub.execute_input": "2023-08-17T08:57:59.985010Z",
     "iopub.status.busy": "2023-08-17T08:57:59.984521Z",
     "iopub.status.idle": "2023-08-17T08:58:00.294487Z",
     "shell.execute_reply": "2023-08-17T08:58:00.293257Z",
     "shell.execute_reply.started": "2023-08-17T08:57:59.984926Z"
    }
   },
   "outputs": [
    {
     "data": {
      "image/png": "[encoded data removed]",
      "text/plain": [
       "<Figure size 720x432 with 1 Axes>"
      ]
     },
     "metadata": {
      "needs_background": "light"
     },
     "output_type": "display_data"
    }
   ],
   "source": [
    "coefficients = clf_Logistic.coef_[0]\n",
    "\n",
    "feature_importance = pd.DataFrame({'Feature': X_train_.columns, 'Importance': np.abs(coefficients)})\n",
    "feature_importance = feature_importance.sort_values('Importance', ascending=True)[0:10]\n",
    "feature_importance.plot(x='Feature', y='Importance', kind='barh', figsize=(10, 6));"
   ]
  },
  {
   "cell_type": "markdown",
   "id": "2f88b5d2",
   "metadata": {},
   "source": [
    "Il est intéressant de noter que pour le modèle Regression logistique, les trois variables les plus importantes pour effectuer les prédictions sont les suivantes : ps_calc_18_bin, ps_car_11_cat_22 et ps_calc_04. "
   ]
  },
  {
   "cell_type": "markdown",
   "id": "115ab6ed",
   "metadata": {},
   "source": [
    "### Classifier Random Forest\n",
    "\n",
    "Avantages et inconvénients de l'algorithme Random Forest :\n",
    "\n",
    "Les avantages de l'algorithme Random Forest sont les suivants :\n",
    "\n",
    "* L'algorithme Random Forest peut être utilisé pour résoudre à la fois des problèmes de classification et de régression.\n",
    "* Il est considéré comme un modèle très précis et robuste car il utilise un grand nombre d'arbres de décision pour effectuer des prédictions.\n",
    "* Les forêts aléatoires prennent la moyenne de toutes les prédictions faites par les arbres de décision, ce qui annule les biais. Ainsi, il ne souffre pas du problème de surajustement (overfitting).\n",
    "* Le classificateur Random Forest peut gérer les valeurs manquantes. Il existe deux façons de gérer les valeurs manquantes : utiliser les valeurs médianes pour remplacer les variables continues ou calculer la moyenne pondérée des proximités des valeurs manquantes.\n",
    "* Le classificateur Random Forest peut être utilisé pour la sélection des caractéristiques. Cela signifie sélectionner les caractéristiques les plus importantes parmi celles disponibles dans l'ensemble de données d'entraînement.\n",
    "\n",
    "Les inconvénients de l'algorithme Random Forest sont les suivants :\n",
    "\n",
    "* Le plus grand inconvénient des forêts aléatoires est leur complexité computationnelle. Les forêts aléatoires sont très lentes pour effectuer des prédictions car un grand nombre d'arbres de décision est utilisé pour les prédictions. Tous les arbres de la forêt doivent faire une prédiction pour la même entrée, puis effectuer un vote. C'est donc un processus long.\n",
    "* Le modèle est difficile à interpréter par rapport à un arbre de décision, où nous pouvons facilement faire une prédiction."
   ]
  },
  {
   "cell_type": "code",
   "execution_count": 29,
   "id": "7f97895c",
   "metadata": {
    "execution": {
     "iopub.execute_input": "2023-08-17T08:58:00.297260Z",
     "iopub.status.busy": "2023-08-17T08:58:00.296537Z",
     "iopub.status.idle": "2023-08-17T08:58:00.304741Z",
     "shell.execute_reply": "2023-08-17T08:58:00.303527Z",
     "shell.execute_reply.started": "2023-08-17T08:58:00.297207Z"
    }
   },
   "outputs": [],
   "source": [
    "param_grid = { \n",
    "    'n_estimators': [100, 300, 500],\n",
    "    'max_features': ['auto', 'sqrt', 'log2'],\n",
    "    'max_depth' : [4,5,6,7,8],\n",
    "    'criterion' :['gini', 'entropy']\n",
    "}\n",
    "#clf_RF = RandomForestClassifier()\n",
    "\n",
    "#%%time\n",
    "#CV_rfc = GridSearchCV(estimator=clf_RF, param_grid=param_grid, cv=5, n_jobs=-1, verbose=2)\n",
    "#CV_rfc.fit(x_train, y_train)\n",
    "#CV_rfc.best_params_ \n",
    "\n",
    "\n",
    "#{'criterion': 'entropy',\n",
    "# 'max_depth': 8,\n",
    "# 'max_features': 'auto',\n",
    "# 'n_estimators': 200}"
   ]
  },
  {
   "cell_type": "code",
   "execution_count": 30,
   "id": "146fb9dd",
   "metadata": {
    "execution": {
     "iopub.execute_input": "2023-08-17T08:58:00.309225Z",
     "iopub.status.busy": "2023-08-17T08:58:00.308308Z",
     "iopub.status.idle": "2023-08-17T09:02:31.066979Z",
     "shell.execute_reply": "2023-08-17T09:02:31.065777Z",
     "shell.execute_reply.started": "2023-08-17T08:58:00.309150Z"
    }
   },
   "outputs": [],
   "source": [
    "clf_RF = RandomForestClassifier(n_estimators=300, max_depth=7, \n",
    "                                criterion= 'entropy', max_features= 'auto').fit(X_train, y_train)"
   ]
  },
  {
   "cell_type": "code",
   "execution_count": 31,
   "id": "1c01d550",
   "metadata": {
    "execution": {
     "iopub.execute_input": "2023-08-17T09:02:31.069280Z",
     "iopub.status.busy": "2023-08-17T09:02:31.068758Z",
     "iopub.status.idle": "2023-08-17T09:02:39.766930Z",
     "shell.execute_reply": "2023-08-17T09:02:39.765556Z",
     "shell.execute_reply.started": "2023-08-17T09:02:31.069233Z"
    }
   },
   "outputs": [],
   "source": [
    "y_pred_RF = clf_RF.predict(X_test)\n",
    "y_pred_RF_proba = clf_RF.predict_proba(X_test)"
   ]
  },
  {
   "cell_type": "code",
   "execution_count": 32,
   "id": "f9101745",
   "metadata": {
    "execution": {
     "iopub.execute_input": "2023-08-17T09:02:39.769602Z",
     "iopub.status.busy": "2023-08-17T09:02:39.768811Z",
     "iopub.status.idle": "2023-08-17T09:02:39.800161Z",
     "shell.execute_reply": "2023-08-17T09:02:39.798646Z",
     "shell.execute_reply.started": "2023-08-17T09:02:39.769545Z"
    }
   },
   "outputs": [
    {
     "name": "stdout",
     "output_type": "stream",
     "text": [
      "Confusion matrix\n",
      "\n",
      " [[114658      0]\n",
      " [  4385      0]]\n",
      "\n",
      "True Positives(TP) =  114658\n",
      "\n",
      "True Negatives(TN) =  0\n",
      "\n",
      "False Positives(FP) =  0\n",
      "\n",
      "False Negatives(FN) =  4385\n"
     ]
    }
   ],
   "source": [
    "cm__RF = confusion_matrix(y_test, y_pred_RF)\n",
    "print('Confusion matrix\\n\\n', cm__RF)\n",
    "print('\\nTrue Positives(TP) = ', cm__RF[0,0])\n",
    "print('\\nTrue Negatives(TN) = ', cm__RF[1,1])\n",
    "print('\\nFalse Positives(FP) = ', cm__RF[0,1])\n",
    "print('\\nFalse Negatives(FN) = ', cm__RF[1,0])"
   ]
  },
  {
   "cell_type": "code",
   "execution_count": 33,
   "id": "de5c99ae",
   "metadata": {
    "execution": {
     "iopub.execute_input": "2023-08-17T09:02:39.802128Z",
     "iopub.status.busy": "2023-08-17T09:02:39.801674Z",
     "iopub.status.idle": "2023-08-17T09:02:39.852735Z",
     "shell.execute_reply": "2023-08-17T09:02:39.851674Z",
     "shell.execute_reply.started": "2023-08-17T09:02:39.802089Z"
    }
   },
   "outputs": [
    {
     "data": {
      "text/plain": [
       "0.6298385781975421"
      ]
     },
     "execution_count": 33,
     "metadata": {},
     "output_type": "execute_result"
    }
   ],
   "source": [
    "roc_auc_score(y_test, y_pred_RF_proba[:,1])"
   ]
  },
  {
   "cell_type": "markdown",
   "id": "b4d5a47b",
   "metadata": {},
   "source": [
    "#### Importance des variables. "
   ]
  },
  {
   "cell_type": "code",
   "execution_count": 34,
   "id": "cd9859f1",
   "metadata": {
    "execution": {
     "iopub.execute_input": "2023-08-17T09:02:39.855335Z",
     "iopub.status.busy": "2023-08-17T09:02:39.854188Z",
     "iopub.status.idle": "2023-08-17T09:02:40.201326Z",
     "shell.execute_reply": "2023-08-17T09:02:40.200186Z",
     "shell.execute_reply.started": "2023-08-17T09:02:39.855288Z"
    }
   },
   "outputs": [
    {
     "data": {
      "image/png": "[encoded data removed]",
      "text/plain": [
       "<Figure size 864x720 with 1 Axes>"
      ]
     },
     "metadata": {
      "needs_background": "light"
     },
     "output_type": "display_data"
    }
   ],
   "source": [
    "# view the feature scores\n",
    "feature_scores = pd.Series(clf_RF.feature_importances_, index=X_train_.columns).sort_values(ascending=False)\n",
    "\n",
    "f, ax = plt.subplots(figsize=(12, 10))\n",
    "ax = sns.barplot(x=feature_scores[0:10], y=feature_scores[0:10].index)\n",
    "ax.set_title(\"Visualize feature scores of the features\")\n",
    "ax.set_yticklabels(feature_scores[0:10].index)\n",
    "ax.set_xlabel(\"Feature importance score\")\n",
    "ax.set_ylabel(\"Features\")\n",
    "plt.show()"
   ]
  },
  {
   "cell_type": "markdown",
   "id": "f4c56425",
   "metadata": {},
   "source": [
    "Il est intéressant de noter que pour le modèle Random Forest, les trois variables les plus importantes pour effectuer les prédictions sont les suivantes : ps_car_13, ps_ind_05_cat_0 et ps_ind_17_bin. "
   ]
  },
  {
   "cell_type": "markdown",
   "id": "1725d29b",
   "metadata": {},
   "source": [
    "### Classifier LightGBM\n",
    "\n",
    "Les avantages de l'algorithme LightGBM sont les suivants :\n",
    "\n",
    "* L'algorithme LightGBM est rapide et efficace en termes de vitesse d'entraînement et de prédiction. Il utilise des techniques de gradient boosting pour améliorer la vitesse de formation des arbres.\n",
    "* Il peut gérer de grands ensembles de données et présente une grande évolutivité.\n",
    "* LightGBM utilise des techniques de division basées sur l'histogramme, ce qui le rend plus adapté aux ensembles de données avec un grand nombre de fonctionnalités ou avec des valeurs manquantes.\n",
    "* Il offre des performances de pointe et est généralement très précis dans ses prédictions.\n",
    "* LightGBM permet de contrôler la complexité du modèle en ajustant des paramètres tels que la profondeur des arbres et le nombre d'itérations.\n",
    "\n",
    "\n",
    "Les inconvénients de l'algorithme LightGBM sont les suivants :\n",
    "\n",
    "* Comme les autres modèles basés sur le gradient boosting, LightGBM est sensible aux données bruitées et peut surajuster (overfit) sur des ensembles de données trop petits.\n",
    "* Bien que LightGBM soit efficace en termes de mémoire, il peut quand même consommer plus de mémoire que des modèles linéaires plus simples.\n",
    "* L'interprétation du modèle peut être plus complexe par rapport à des modèles linéaires ou des arbres de décision, car il s'agit d'un modèle basé sur des ensembles d'arbres de décision.\n",
    "* En résumé, l'algorithme LightGBM est un excellent choix pour les ensembles de données volumineux, avec un grand nombre de fonctionnalités et nécessitant des prédictions rapides et précises. Cependant, il est important de prendre en compte le potentiel de surajustement et de sélectionner judicieusement les paramètres pour obtenir les meilleurs résultats."
   ]
  },
  {
   "cell_type": "code",
   "execution_count": 35,
   "id": "b331ca0c",
   "metadata": {
    "execution": {
     "iopub.execute_input": "2023-08-17T09:02:40.202922Z",
     "iopub.status.busy": "2023-08-17T09:02:40.202581Z",
     "iopub.status.idle": "2023-08-17T09:02:40.211644Z",
     "shell.execute_reply": "2023-08-17T09:02:40.210110Z",
     "shell.execute_reply.started": "2023-08-17T09:02:40.202892Z"
    }
   },
   "outputs": [],
   "source": [
    "param_grid = {\n",
    "    'num_leaves': list(range(30, 150)),\n",
    "    'learning_rate': [0.01,0.1,0.5],\n",
    "    'min_child_samples': [20,50,100,200,500],\n",
    "    'colsample_bytree': [0.6,0.8,1],\n",
    "    \"max_depth\": [5, 8, 10],\n",
    "    \"n_estimators\": [100, 300, 500]\n",
    "}\n",
    "lgbm = lgb.LGBMClassifier() # Shortname the LGBMClassifier()\n",
    "\n",
    "#%%time\n",
    "#lgbm_cv = GridSearchCV(lgbm, param_grid, cv=5, n_jobs=-1, verbose=2) #5 fold cross validation\n",
    "#lgbm_cv.fit(X_train, y_train) #try all parameters\n",
    "#lgbm_cv.best_params_ #print optimum parameters\n",
    "\n",
    "#{'colsample_bytree': 0.8,\n",
    "# 'learning_rate': 0.01,\n",
    "# 'max_depth': 10,\n",
    "# 'min_child_samples': 20,\n",
    "# 'num_leaves': 30\n",
    "#\"n_estimators\":500}"
   ]
  },
  {
   "cell_type": "code",
   "execution_count": 36,
   "id": "e01cf650",
   "metadata": {
    "execution": {
     "iopub.execute_input": "2023-08-17T09:02:40.213341Z",
     "iopub.status.busy": "2023-08-17T09:02:40.212959Z",
     "iopub.status.idle": "2023-08-17T09:03:13.318999Z",
     "shell.execute_reply": "2023-08-17T09:03:13.317067Z",
     "shell.execute_reply.started": "2023-08-17T09:02:40.213306Z"
    }
   },
   "outputs": [
    {
     "data": {
      "text/plain": [
       "LGBMClassifier(colsample_bytree=0.8, learning_rate=0.01, max_depth=10,\n",
       "               n_estimators=500, num_leaves=30)"
      ]
     },
     "execution_count": 36,
     "metadata": {},
     "output_type": "execute_result"
    }
   ],
   "source": [
    "clf_LGBM = lgb.LGBMClassifier(min_child_samples = 20,\n",
    "                            num_leaves = 30,\n",
    "                            learning_rate=0.01, \n",
    "                            max_depth=10, \n",
    "                            n_estimators=500, \n",
    "                            colsample_bytree=0.8)\n",
    "clf_LGBM.fit(X_train, y_train)"
   ]
  },
  {
   "cell_type": "code",
   "execution_count": 37,
   "id": "63a31e08",
   "metadata": {
    "execution": {
     "iopub.execute_input": "2023-08-17T09:03:13.322947Z",
     "iopub.status.busy": "2023-08-17T09:03:13.322440Z",
     "iopub.status.idle": "2023-08-17T09:03:17.102821Z",
     "shell.execute_reply": "2023-08-17T09:03:17.101809Z",
     "shell.execute_reply.started": "2023-08-17T09:03:13.322891Z"
    }
   },
   "outputs": [],
   "source": [
    "# predict the results\n",
    "y_pred_lightgbm=clf_LGBM.predict(X_test)\n",
    "y_pred_lightgbm_proba=clf_LGBM.predict_proba(X_test)"
   ]
  },
  {
   "cell_type": "code",
   "execution_count": 38,
   "id": "1e565532",
   "metadata": {
    "execution": {
     "iopub.execute_input": "2023-08-17T09:03:17.105280Z",
     "iopub.status.busy": "2023-08-17T09:03:17.104482Z",
     "iopub.status.idle": "2023-08-17T09:03:17.134522Z",
     "shell.execute_reply": "2023-08-17T09:03:17.133267Z",
     "shell.execute_reply.started": "2023-08-17T09:03:17.105240Z"
    }
   },
   "outputs": [
    {
     "name": "stdout",
     "output_type": "stream",
     "text": [
      "Confusion matrix\n",
      "\n",
      " [[114658      0]\n",
      " [  4385      0]]\n",
      "\n",
      "True Positives(TP) =  114658\n",
      "\n",
      "True Negatives(TN) =  0\n",
      "\n",
      "False Positives(FP) =  0\n",
      "\n",
      "False Negatives(FN) =  4385\n"
     ]
    }
   ],
   "source": [
    "cm = confusion_matrix(y_test, y_pred_lightgbm)\n",
    "print('Confusion matrix\\n\\n', cm)\n",
    "print('\\nTrue Positives(TP) = ', cm[0,0])\n",
    "print('\\nTrue Negatives(TN) = ', cm[1,1])\n",
    "print('\\nFalse Positives(FP) = ', cm[0,1])\n",
    "print('\\nFalse Negatives(FN) = ', cm[1,0])"
   ]
  },
  {
   "cell_type": "code",
   "execution_count": 39,
   "id": "af7966bd",
   "metadata": {
    "execution": {
     "iopub.execute_input": "2023-08-17T09:03:17.136435Z",
     "iopub.status.busy": "2023-08-17T09:03:17.135844Z",
     "iopub.status.idle": "2023-08-17T09:03:17.187140Z",
     "shell.execute_reply": "2023-08-17T09:03:17.185784Z",
     "shell.execute_reply.started": "2023-08-17T09:03:17.136393Z"
    }
   },
   "outputs": [
    {
     "data": {
      "text/plain": [
       "0.6412083584132896"
      ]
     },
     "execution_count": 39,
     "metadata": {},
     "output_type": "execute_result"
    }
   ],
   "source": [
    "roc_auc_score(y_test, y_pred_lightgbm_proba[:,1])"
   ]
  },
  {
   "cell_type": "markdown",
   "id": "6c05853e",
   "metadata": {},
   "source": [
    "#### Importance des variables. "
   ]
  },
  {
   "cell_type": "code",
   "execution_count": 40,
   "id": "0814ed52",
   "metadata": {
    "execution": {
     "iopub.execute_input": "2023-08-17T09:03:17.189348Z",
     "iopub.status.busy": "2023-08-17T09:03:17.188926Z",
     "iopub.status.idle": "2023-08-17T09:03:17.504386Z",
     "shell.execute_reply": "2023-08-17T09:03:17.503475Z",
     "shell.execute_reply.started": "2023-08-17T09:03:17.189310Z"
    }
   },
   "outputs": [
    {
     "data": {
      "image/png": "[encoded data removed]",
      "text/plain": [
       "<Figure size 864x720 with 1 Axes>"
      ]
     },
     "metadata": {
      "needs_background": "light"
     },
     "output_type": "display_data"
    }
   ],
   "source": [
    "# view the feature scores\n",
    "feature_scores = pd.Series(clf_LGBM.feature_importances_, index=X_train_.columns).sort_values(ascending=False)\n",
    "\n",
    "f, ax = plt.subplots(figsize=(12, 10))\n",
    "ax = sns.barplot(x=feature_scores[0:10], y=feature_scores[0:10].index)\n",
    "ax.set_title(\"Visualize feature scores of the features\")\n",
    "ax.set_yticklabels(feature_scores[0:10].index)\n",
    "ax.set_xlabel(\"Feature importance score\")\n",
    "ax.set_ylabel(\"Features\")\n",
    "plt.show()"
   ]
  },
  {
   "cell_type": "markdown",
   "id": "0cd7f760",
   "metadata": {},
   "source": [
    "Il est intéressant de noter que pour le modèle LightGBM, les trois variables les plus importantes pour effectuer les prédictions sont les suivantes : ps_ind_03, ps_reg_03 et ps_car_13. \n",
    "\n",
    "Ces résultats soulignent l'importance de ces variables pour le modèle LightGBM dans la tâche de classification. "
   ]
  },
  {
   "cell_type": "markdown",
   "id": "d2925afe",
   "metadata": {},
   "source": [
    "#Conclusion "
   ]
  },
  {
   "cell_type": "code",
   "execution_count": 41,
   "id": "119177af",
   "metadata": {
    "execution": {
     "iopub.execute_input": "2023-08-17T09:03:17.506488Z",
     "iopub.status.busy": "2023-08-17T09:03:17.505770Z",
     "iopub.status.idle": "2023-08-17T09:03:17.636112Z",
     "shell.execute_reply": "2023-08-17T09:03:17.635086Z",
     "shell.execute_reply.started": "2023-08-17T09:03:17.506446Z"
    }
   },
   "outputs": [
    {
     "name": "stdout",
     "output_type": "stream",
     "text": [
      "AUC Regression Logistique:  0.6283755131740453\n",
      "AUC Random Forest:  0.6298385781975421\n",
      "AUC LightGBM:  0.6412083584132896\n"
     ]
    }
   ],
   "source": [
    "print('AUC Regression Logistique: ', roc_auc_score(y_test, y_pred__Logistic_proba[:,1]))\n",
    "print('AUC Random Forest: ', roc_auc_score(y_test, y_pred_RF_proba[:,1]))\n",
    "print('AUC LightGBM: ', roc_auc_score(y_test, y_pred_lightgbm_proba[:,1]))"
   ]
  },
  {
   "cell_type": "markdown",
   "id": "b1791e22",
   "metadata": {},
   "source": [
    "D'après les résultats obtenus, nous pouvons tirer la conclusion suivante :\n",
    "\n",
    "Parmi les trois modèles évalués, LightGBM a obtenu le meilleur résultat avec une Aire sous la courbe ROC (AUC) de 0.6412. Cela signifie que le modèle LightGBM a une meilleure capacité à distinguer entre les classes positives et négatives que les autres modèles.\n",
    "\n",
    "La régression logistique a obtenu un AUC de 0.6283, ce qui est légèrement inférieur à celui du Random Forest qui est de 0.6290. Bien que la différence entre les performances de ces deux modèles soit faible, LightGBM a réussi à surpasser les deux autres en termes de performances prédictives.\n",
    "\n",
    "En conclusion, pour cette tâche de classification, LightGBM se révèle être le modèle le plus performant parmi ceux testés, offrant une meilleure discrimination entre les classes cibles. Il serait donc préférable de choisir LightGBM pour de futurs projets nécessitant une prédiction précise dans des ensembles de données similaires. Cependant, il est toujours important de prendre en compte d'autres facteurs tels que la complexité du modèle, les ressources informatiques disponibles et la taille de l'ensemble de données avant de prendre une décision finale."
   ]
  },
  {
   "cell_type": "markdown",
   "id": "83408a03",
   "metadata": {},
   "source": [
    "# Submission"
   ]
  },
  {
   "cell_type": "code",
   "execution_count": 43,
   "id": "737767b9",
   "metadata": {
    "execution": {
     "iopub.execute_input": "2023-08-17T09:05:57.080597Z",
     "iopub.status.busy": "2023-08-17T09:05:57.080196Z",
     "iopub.status.idle": "2023-08-17T09:05:57.322224Z",
     "shell.execute_reply": "2023-08-17T09:05:57.320836Z",
     "shell.execute_reply.started": "2023-08-17T09:05:57.080565Z"
    }
   },
   "outputs": [],
   "source": [
    "sub = pd.DataFrame()\n",
    "sub['id'] = X_test.index\n",
    "sub['target'] = y_pred_lightgbm\n",
    "sub.to_csv('submission.csv', index=False)"
   ]
  },
  {
   "cell_type": "code",
   "execution_count": null,
   "id": "fea743c5",
   "metadata": {},
   "outputs": [],
   "source": []
  }
 ],
 "metadata": {
  "kernelspec": {
   "display_name": "Python 3",
   "language": "python",
   "name": "python3"
  },
  "language_info": {
   "codemirror_mode": {
    "name": "ipython",
    "version": 3
   },
   "file_extension": ".py",
   "mimetype": "text/x-python",
   "name": "python",
   "nbconvert_exporter": "python",
   "pygments_lexer": "ipython3",
   "version": "3.8.5"
  }
 },
 "nbformat": 4,
 "nbformat_minor": 5
}
